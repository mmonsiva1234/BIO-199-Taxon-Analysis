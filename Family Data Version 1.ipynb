{
 "cells": [
  {
   "cell_type": "markdown",
   "metadata": {},
   "source": [
    "<center><h1> Libraries </h1></center>"
   ]
  },
  {
   "cell_type": "code",
   "execution_count": 1,
   "metadata": {},
   "outputs": [
    {
     "name": "stdout",
     "output_type": "stream",
     "text": [
      "/Users/mildredmonsivais/Desktop\n"
     ]
    }
   ],
   "source": [
    "import pandas as pd\n",
    "from scipy.special import comb\n",
    "import ecopy as ep\n",
    "import plotly.graph_objects as go\n",
    "%cd Desktop"
   ]
  },
  {
   "cell_type": "markdown",
   "metadata": {},
   "source": [
    "<center><h1> Reading in Data </h1></center>"
   ]
  },
  {
   "cell_type": "code",
   "execution_count": 2,
   "metadata": {},
   "outputs": [],
   "source": [
    "# OTU_table = pd.read_table('OTU_table (1).txt')\n",
    "# taxonomy = pd.read_table('taxonomy.txt')\n",
    "# microbiome = pd.read_table('Microbiome_mapping_14Oct2019.txt')\n",
    "OTU_table1 = pd.read_table('otu_table_L6_Genus_metaboanalystlabels_byFamily.csv', sep = \",\")"
   ]
  },
  {
   "cell_type": "code",
   "execution_count": 3,
   "metadata": {},
   "outputs": [],
   "source": [
    "# Setting the column Sample as the index.\n",
    "OTU_table1.set_index('Sample', inplace=True)"
   ]
  },
  {
   "cell_type": "code",
   "execution_count": 4,
   "metadata": {},
   "outputs": [
    {
     "data": {
      "text/html": [
       "<div>\n",
       "<style scoped>\n",
       "    .dataframe tbody tr th:only-of-type {\n",
       "        vertical-align: middle;\n",
       "    }\n",
       "\n",
       "    .dataframe tbody tr th {\n",
       "        vertical-align: top;\n",
       "    }\n",
       "\n",
       "    .dataframe thead th {\n",
       "        text-align: right;\n",
       "    }\n",
       "</style>\n",
       "<table border=\"1\" class=\"dataframe\">\n",
       "  <thead>\n",
       "    <tr style=\"text-align: right;\">\n",
       "      <th></th>\n",
       "      <th>1</th>\n",
       "      <th>2</th>\n",
       "      <th>3</th>\n",
       "      <th>4</th>\n",
       "      <th>5</th>\n",
       "      <th>6</th>\n",
       "      <th>7</th>\n",
       "      <th>8</th>\n",
       "      <th>9</th>\n",
       "      <th>10</th>\n",
       "      <th>...</th>\n",
       "      <th>88</th>\n",
       "      <th>89</th>\n",
       "      <th>90</th>\n",
       "      <th>91</th>\n",
       "      <th>92</th>\n",
       "      <th>93</th>\n",
       "      <th>94</th>\n",
       "      <th>95</th>\n",
       "      <th>96</th>\n",
       "      <th>Taxon</th>\n",
       "    </tr>\n",
       "    <tr>\n",
       "      <th>Sample</th>\n",
       "      <th></th>\n",
       "      <th></th>\n",
       "      <th></th>\n",
       "      <th></th>\n",
       "      <th></th>\n",
       "      <th></th>\n",
       "      <th></th>\n",
       "      <th></th>\n",
       "      <th></th>\n",
       "      <th></th>\n",
       "      <th></th>\n",
       "      <th></th>\n",
       "      <th></th>\n",
       "      <th></th>\n",
       "      <th></th>\n",
       "      <th></th>\n",
       "      <th></th>\n",
       "      <th></th>\n",
       "      <th></th>\n",
       "      <th></th>\n",
       "      <th></th>\n",
       "    </tr>\n",
       "  </thead>\n",
       "  <tbody>\n",
       "    <tr>\n",
       "      <th>Family</th>\n",
       "      <td>1.000000</td>\n",
       "      <td>1.000000</td>\n",
       "      <td>1.000000</td>\n",
       "      <td>1.000000</td>\n",
       "      <td>1.000000</td>\n",
       "      <td>1.000000</td>\n",
       "      <td>1.000000</td>\n",
       "      <td>1.000000</td>\n",
       "      <td>1.00000</td>\n",
       "      <td>1.000000</td>\n",
       "      <td>...</td>\n",
       "      <td>4.000000</td>\n",
       "      <td>4.000000</td>\n",
       "      <td>4.000000</td>\n",
       "      <td>4.000000</td>\n",
       "      <td>4.000000</td>\n",
       "      <td>4.000000</td>\n",
       "      <td>4.00000</td>\n",
       "      <td>4.000000</td>\n",
       "      <td>4.000000</td>\n",
       "      <td>NaN</td>\n",
       "    </tr>\n",
       "    <tr>\n",
       "      <th>Unassigned;Other;Other;Other;Other;Other</th>\n",
       "      <td>0.098334</td>\n",
       "      <td>0.049853</td>\n",
       "      <td>0.037298</td>\n",
       "      <td>0.015194</td>\n",
       "      <td>0.032395</td>\n",
       "      <td>0.035807</td>\n",
       "      <td>0.033486</td>\n",
       "      <td>0.035065</td>\n",
       "      <td>0.04217</td>\n",
       "      <td>0.056088</td>\n",
       "      <td>...</td>\n",
       "      <td>0.025418</td>\n",
       "      <td>0.021627</td>\n",
       "      <td>0.030958</td>\n",
       "      <td>0.026389</td>\n",
       "      <td>0.019443</td>\n",
       "      <td>0.019863</td>\n",
       "      <td>0.01976</td>\n",
       "      <td>0.021464</td>\n",
       "      <td>0.022003</td>\n",
       "      <td>Unassigned;Other;Other;Other;Other;Other</td>\n",
       "    </tr>\n",
       "    <tr>\n",
       "      <th>k__Bacteria;Other;Other;Other;Other;Other</th>\n",
       "      <td>0.000000</td>\n",
       "      <td>0.000000</td>\n",
       "      <td>0.000000</td>\n",
       "      <td>0.000000</td>\n",
       "      <td>0.000000</td>\n",
       "      <td>0.000000</td>\n",
       "      <td>0.000000</td>\n",
       "      <td>0.000000</td>\n",
       "      <td>0.00000</td>\n",
       "      <td>0.000000</td>\n",
       "      <td>...</td>\n",
       "      <td>0.000000</td>\n",
       "      <td>0.000000</td>\n",
       "      <td>0.000000</td>\n",
       "      <td>0.000000</td>\n",
       "      <td>0.000000</td>\n",
       "      <td>0.000000</td>\n",
       "      <td>0.00000</td>\n",
       "      <td>0.000000</td>\n",
       "      <td>0.000000</td>\n",
       "      <td>k__Bacteria;Other;Other;Other;Other;Other</td>\n",
       "    </tr>\n",
       "    <tr>\n",
       "      <th>k__Bacteria;p__Actinobacteria;c__Actinobacteria;o__Actinomycetales;Other;Other</th>\n",
       "      <td>0.000000</td>\n",
       "      <td>0.000000</td>\n",
       "      <td>0.000352</td>\n",
       "      <td>0.000000</td>\n",
       "      <td>0.000000</td>\n",
       "      <td>0.000000</td>\n",
       "      <td>0.000000</td>\n",
       "      <td>0.000000</td>\n",
       "      <td>0.00000</td>\n",
       "      <td>0.000000</td>\n",
       "      <td>...</td>\n",
       "      <td>0.000000</td>\n",
       "      <td>0.000000</td>\n",
       "      <td>0.000000</td>\n",
       "      <td>0.000000</td>\n",
       "      <td>0.000000</td>\n",
       "      <td>0.000000</td>\n",
       "      <td>0.00000</td>\n",
       "      <td>0.000000</td>\n",
       "      <td>0.000000</td>\n",
       "      <td>k__Bacteria;p__Actinobacteria;c__Actinobacteri...</td>\n",
       "    </tr>\n",
       "    <tr>\n",
       "      <th>k__Bacteria;p__Actinobacteria;c__Actinobacteria;o__Actinomycetales;f__Actinomycetaceae;Other</th>\n",
       "      <td>0.000000</td>\n",
       "      <td>0.000000</td>\n",
       "      <td>0.000000</td>\n",
       "      <td>0.000000</td>\n",
       "      <td>0.000000</td>\n",
       "      <td>0.000000</td>\n",
       "      <td>0.000000</td>\n",
       "      <td>0.000000</td>\n",
       "      <td>0.00000</td>\n",
       "      <td>0.000000</td>\n",
       "      <td>...</td>\n",
       "      <td>0.000000</td>\n",
       "      <td>0.000000</td>\n",
       "      <td>0.000000</td>\n",
       "      <td>0.000000</td>\n",
       "      <td>0.000000</td>\n",
       "      <td>0.000000</td>\n",
       "      <td>0.00000</td>\n",
       "      <td>0.000000</td>\n",
       "      <td>0.000000</td>\n",
       "      <td>k__Bacteria;p__Actinobacteria;c__Actinobacteri...</td>\n",
       "    </tr>\n",
       "  </tbody>\n",
       "</table>\n",
       "<p>5 rows × 97 columns</p>\n",
       "</div>"
      ],
      "text/plain": [
       "                                                           1         2  \\\n",
       "Sample                                                                   \n",
       "Family                                              1.000000  1.000000   \n",
       "Unassigned;Other;Other;Other;Other;Other            0.098334  0.049853   \n",
       "k__Bacteria;Other;Other;Other;Other;Other           0.000000  0.000000   \n",
       "k__Bacteria;p__Actinobacteria;c__Actinobacteria...  0.000000  0.000000   \n",
       "k__Bacteria;p__Actinobacteria;c__Actinobacteria...  0.000000  0.000000   \n",
       "\n",
       "                                                           3         4  \\\n",
       "Sample                                                                   \n",
       "Family                                              1.000000  1.000000   \n",
       "Unassigned;Other;Other;Other;Other;Other            0.037298  0.015194   \n",
       "k__Bacteria;Other;Other;Other;Other;Other           0.000000  0.000000   \n",
       "k__Bacteria;p__Actinobacteria;c__Actinobacteria...  0.000352  0.000000   \n",
       "k__Bacteria;p__Actinobacteria;c__Actinobacteria...  0.000000  0.000000   \n",
       "\n",
       "                                                           5         6  \\\n",
       "Sample                                                                   \n",
       "Family                                              1.000000  1.000000   \n",
       "Unassigned;Other;Other;Other;Other;Other            0.032395  0.035807   \n",
       "k__Bacteria;Other;Other;Other;Other;Other           0.000000  0.000000   \n",
       "k__Bacteria;p__Actinobacteria;c__Actinobacteria...  0.000000  0.000000   \n",
       "k__Bacteria;p__Actinobacteria;c__Actinobacteria...  0.000000  0.000000   \n",
       "\n",
       "                                                           7         8  \\\n",
       "Sample                                                                   \n",
       "Family                                              1.000000  1.000000   \n",
       "Unassigned;Other;Other;Other;Other;Other            0.033486  0.035065   \n",
       "k__Bacteria;Other;Other;Other;Other;Other           0.000000  0.000000   \n",
       "k__Bacteria;p__Actinobacteria;c__Actinobacteria...  0.000000  0.000000   \n",
       "k__Bacteria;p__Actinobacteria;c__Actinobacteria...  0.000000  0.000000   \n",
       "\n",
       "                                                          9        10  ...  \\\n",
       "Sample                                                                 ...   \n",
       "Family                                              1.00000  1.000000  ...   \n",
       "Unassigned;Other;Other;Other;Other;Other            0.04217  0.056088  ...   \n",
       "k__Bacteria;Other;Other;Other;Other;Other           0.00000  0.000000  ...   \n",
       "k__Bacteria;p__Actinobacteria;c__Actinobacteria...  0.00000  0.000000  ...   \n",
       "k__Bacteria;p__Actinobacteria;c__Actinobacteria...  0.00000  0.000000  ...   \n",
       "\n",
       "                                                          88        89  \\\n",
       "Sample                                                                   \n",
       "Family                                              4.000000  4.000000   \n",
       "Unassigned;Other;Other;Other;Other;Other            0.025418  0.021627   \n",
       "k__Bacteria;Other;Other;Other;Other;Other           0.000000  0.000000   \n",
       "k__Bacteria;p__Actinobacteria;c__Actinobacteria...  0.000000  0.000000   \n",
       "k__Bacteria;p__Actinobacteria;c__Actinobacteria...  0.000000  0.000000   \n",
       "\n",
       "                                                          90        91  \\\n",
       "Sample                                                                   \n",
       "Family                                              4.000000  4.000000   \n",
       "Unassigned;Other;Other;Other;Other;Other            0.030958  0.026389   \n",
       "k__Bacteria;Other;Other;Other;Other;Other           0.000000  0.000000   \n",
       "k__Bacteria;p__Actinobacteria;c__Actinobacteria...  0.000000  0.000000   \n",
       "k__Bacteria;p__Actinobacteria;c__Actinobacteria...  0.000000  0.000000   \n",
       "\n",
       "                                                          92        93  \\\n",
       "Sample                                                                   \n",
       "Family                                              4.000000  4.000000   \n",
       "Unassigned;Other;Other;Other;Other;Other            0.019443  0.019863   \n",
       "k__Bacteria;Other;Other;Other;Other;Other           0.000000  0.000000   \n",
       "k__Bacteria;p__Actinobacteria;c__Actinobacteria...  0.000000  0.000000   \n",
       "k__Bacteria;p__Actinobacteria;c__Actinobacteria...  0.000000  0.000000   \n",
       "\n",
       "                                                         94        95  \\\n",
       "Sample                                                                  \n",
       "Family                                              4.00000  4.000000   \n",
       "Unassigned;Other;Other;Other;Other;Other            0.01976  0.021464   \n",
       "k__Bacteria;Other;Other;Other;Other;Other           0.00000  0.000000   \n",
       "k__Bacteria;p__Actinobacteria;c__Actinobacteria...  0.00000  0.000000   \n",
       "k__Bacteria;p__Actinobacteria;c__Actinobacteria...  0.00000  0.000000   \n",
       "\n",
       "                                                          96  \\\n",
       "Sample                                                         \n",
       "Family                                              4.000000   \n",
       "Unassigned;Other;Other;Other;Other;Other            0.022003   \n",
       "k__Bacteria;Other;Other;Other;Other;Other           0.000000   \n",
       "k__Bacteria;p__Actinobacteria;c__Actinobacteria...  0.000000   \n",
       "k__Bacteria;p__Actinobacteria;c__Actinobacteria...  0.000000   \n",
       "\n",
       "                                                                                                Taxon  \n",
       "Sample                                                                                                 \n",
       "Family                                                                                            NaN  \n",
       "Unassigned;Other;Other;Other;Other;Other                     Unassigned;Other;Other;Other;Other;Other  \n",
       "k__Bacteria;Other;Other;Other;Other;Other                   k__Bacteria;Other;Other;Other;Other;Other  \n",
       "k__Bacteria;p__Actinobacteria;c__Actinobacteria...  k__Bacteria;p__Actinobacteria;c__Actinobacteri...  \n",
       "k__Bacteria;p__Actinobacteria;c__Actinobacteria...  k__Bacteria;p__Actinobacteria;c__Actinobacteri...  \n",
       "\n",
       "[5 rows x 97 columns]"
      ]
     },
     "execution_count": 4,
     "metadata": {},
     "output_type": "execute_result"
    }
   ],
   "source": [
    "OTU_table1.head()"
   ]
  },
  {
   "cell_type": "markdown",
   "metadata": {},
   "source": [
    "<center><h1> Looking for Null Values </h1></center>"
   ]
  },
  {
   "cell_type": "code",
   "execution_count": 5,
   "metadata": {},
   "outputs": [
    {
     "data": {
      "text/html": [
       "<div>\n",
       "<style scoped>\n",
       "    .dataframe tbody tr th:only-of-type {\n",
       "        vertical-align: middle;\n",
       "    }\n",
       "\n",
       "    .dataframe tbody tr th {\n",
       "        vertical-align: top;\n",
       "    }\n",
       "\n",
       "    .dataframe thead th {\n",
       "        text-align: right;\n",
       "    }\n",
       "</style>\n",
       "<table border=\"1\" class=\"dataframe\">\n",
       "  <thead>\n",
       "    <tr style=\"text-align: right;\">\n",
       "      <th></th>\n",
       "      <th>Sums</th>\n",
       "    </tr>\n",
       "  </thead>\n",
       "  <tbody>\n",
       "    <tr>\n",
       "      <th>Taxon</th>\n",
       "      <td>1</td>\n",
       "    </tr>\n",
       "  </tbody>\n",
       "</table>\n",
       "</div>"
      ],
      "text/plain": [
       "       Sums\n",
       "Taxon     1"
      ]
     },
     "execution_count": 5,
     "metadata": {},
     "output_type": "execute_result"
    }
   ],
   "source": [
    "# We are dropping Taxon because it has a null value and the same columns as Sample.\n",
    "null_values = pd.DataFrame(OTU_table1.isnull().sum())\n",
    "null_values.columns = [\"Sums\"]\n",
    "null_values[null_values[\"Sums\"] > 0]"
   ]
  },
  {
   "cell_type": "code",
   "execution_count": 6,
   "metadata": {},
   "outputs": [],
   "source": [
    "# Dropping Taxon.\n",
    "\n",
    "OTU_table1.drop(columns=['Taxon'], inplace = True, axis = 1 )"
   ]
  },
  {
   "cell_type": "markdown",
   "metadata": {},
   "source": [
    "<center><h1> Subsetting Data for Heatmaps and PCA Plots </h1></center>"
   ]
  },
  {
   "cell_type": "code",
   "execution_count": 7,
   "metadata": {},
   "outputs": [],
   "source": [
    "# Different dataframes for graphs\n",
    "\n",
    "# All families\n",
    "all_families = OTU_table1.copy()\n",
    "all_families.drop(axis = 0, index = \"Family\", inplace = True)\n",
    "\n",
    "# Family 1 \n",
    "family1 = OTU_table1.copy()\n",
    "family1_columns = pd.DataFrame(family1.iloc[0] == 1.0)\n",
    "family1_columns = list(family1_columns[family1_columns[\"Family\"] == True].index)\n",
    "family1 = family1[family1_columns]\n",
    "family1.drop(axis = 0, index = \"Family\", inplace = True)\n",
    "\n",
    "# Family 2\n",
    "family2 = OTU_table1.copy()\n",
    "family2_columns = pd.DataFrame(family2.iloc[0] == 2.0)\n",
    "family2_columns = list(family2_columns[family2_columns[\"Family\"] == True].index)\n",
    "family2 = family2[family2_columns]\n",
    "family2.drop(axis = 0, index = \"Family\", inplace = True)\n",
    "\n",
    "# Family 3\n",
    "family3 = OTU_table1.copy()\n",
    "family3_columns = pd.DataFrame(family3.iloc[0] == 3.0)\n",
    "family3_columns = list(family3_columns[family3_columns[\"Family\"] == True].index)\n",
    "family3 = family3[family3_columns]\n",
    "family3.drop(axis = 0, index = \"Family\", inplace = True)\n",
    "\n",
    "# Family 4 \n",
    "family4 = OTU_table1.copy()\n",
    "family4_columns = pd.DataFrame(family4.iloc[0] == 4.0)\n",
    "family4_columns = list(family4_columns[family4_columns[\"Family\"] == True].index)\n",
    "family4 = family4[family4_columns]\n",
    "family4.drop(axis = 0, index = \"Family\", inplace = True)"
   ]
  },
  {
   "cell_type": "code",
   "execution_count": 8,
   "metadata": {},
   "outputs": [],
   "source": [
    "# Individual 1-1 \n",
    "individual_1_father = OTU_table1.copy()\n",
    "individual_1_father_columns = ['1', '2', '3', '13', '14', '15']\n",
    "individual_1_father = individual_1_father[individual_1_father_columns]\n",
    "individual_1_father.drop(axis = 0, index = \"Family\", inplace = True)\n",
    "\n",
    "# Individual 1-2\n",
    "individual_2_mother = OTU_table1.copy()\n",
    "individual_2_mother_columns = ['10','11','12','22','23','24']\n",
    "individual_2_mother = individual_2_mother[individual_2_mother_columns]\n",
    "individual_2_mother.drop(axis = 0, index = \"Family\", inplace = True)\n",
    "\n",
    "# Individual 1-3, female \n",
    "individual_3_child1 = OTU_table1.copy()\n",
    "individual_3_child1_columns = ['7','8','9','19','20','21']\n",
    "individual_3_child1 = individual_3_child1[individual_3_child1_columns]\n",
    "individual_3_child1.drop(axis = 0, index = \"Family\", inplace = True)\n",
    "\n",
    "# Individual 1-4, youngest female \n",
    "individual_4_child2 = OTU_table1.copy()\n",
    "individual_4_child2_columns = ['4','5','6','16','17','18']\n",
    "individual_4_child2 = individual_4_child2[individual_4_child2_columns]\n",
    "individual_4_child2.drop(axis = 0, index = \"Family\", inplace = True)"
   ]
  },
  {
   "cell_type": "code",
   "execution_count": 9,
   "metadata": {},
   "outputs": [],
   "source": [
    "# Individual 2-1 \n",
    "individual_2_1_father = OTU_table1.copy()\n",
    "individual_2_1_father_columns = ['25', '26', '27', '37', '38', '39']\n",
    "individual_2_1_father = individual_2_1_father[individual_2_1_father_columns]\n",
    "individual_2_1_father.drop(axis = 0, index = \"Family\", inplace = True)\n",
    "\n",
    "# Individual 2-2\n",
    "individual_2_2_mother = OTU_table1.copy()\n",
    "individual_2_2_mother_columns = ['28','29','30','40','41','42']\n",
    "individual_2_2_mother = individual_2_2_mother[individual_2_2_mother_columns]\n",
    "individual_2_2_mother.drop(axis = 0, index = \"Family\", inplace = True)\n",
    "\n",
    "# Individual 2-3, male \n",
    "individual_2_3_child1 = OTU_table1.copy()\n",
    "individual_2_3_child1_columns = ['34','35','36','46','47','48']\n",
    "individual_2_3_child1 = individual_2_3_child1[individual_2_3_child1_columns]\n",
    "individual_2_3_child1.drop(axis = 0, index = \"Family\", inplace = True)\n",
    "\n",
    "# Individual 2-4, youngest female \n",
    "individual_2_4_child2 = OTU_table1.copy()\n",
    "individual_2_4_child2_columns = ['31','32','33','43','44','45']\n",
    "individual_2_4_child2 = individual_2_4_child2[individual_2_4_child2_columns]\n",
    "individual_2_4_child2.drop(axis = 0, index = \"Family\", inplace = True)"
   ]
  },
  {
   "cell_type": "code",
   "execution_count": 10,
   "metadata": {},
   "outputs": [],
   "source": [
    "# Individual 3-1 \n",
    "individual_3_1_father = OTU_table1.copy()\n",
    "individual_3_1_father_columns = ['52','53','54','64','65','66']\n",
    "individual_3_1_father = individual_3_1_father[individual_3_1_father_columns]\n",
    "individual_3_1_father.drop(axis = 0, index = \"Family\", inplace = True)\n",
    "\n",
    "# Individual 3-2\n",
    "individual_3_2_mother = OTU_table1.copy()\n",
    "individual_3_2_mother_columns = ['49','50','51','61','62','63']\n",
    "individual_3_2_mother = individual_3_2_mother[individual_3_2_mother_columns]\n",
    "individual_3_2_mother.drop(axis = 0, index = \"Family\", inplace = True)\n",
    "\n",
    "# Individual 2-3, male \n",
    "individual_3_3_child1 = OTU_table1.copy()\n",
    "individual_3_3_child1_columns = ['55','56','57','67','68','69']\n",
    "individual_3_3_child1 = individual_3_3_child1[individual_3_3_child1_columns]\n",
    "individual_3_3_child1.drop(axis = 0, index = \"Family\", inplace = True)\n",
    "\n",
    "# Individual 2-4, youngest female \n",
    "individual_3_4_child2 = OTU_table1.copy()\n",
    "individual_3_4_child2_columns = ['58','59','60','70','71','72']\n",
    "individual_3_4_child2 = individual_3_4_child2[individual_3_4_child2_columns]\n",
    "individual_3_4_child2.drop(axis = 0, index = \"Family\", inplace = True)"
   ]
  },
  {
   "cell_type": "code",
   "execution_count": 11,
   "metadata": {},
   "outputs": [],
   "source": [
    "# Individual 4-1 \n",
    "individual_4_1_father = OTU_table1.copy()\n",
    "individual_4_1_father_columns = ['73','74','75','85','86','87']\n",
    "individual_4_1_father = individual_4_1_father[individual_4_1_father_columns]\n",
    "individual_4_1_father.drop(axis = 0, index = \"Family\", inplace = True)\n",
    "\n",
    "# Individual 4-2\n",
    "individual_4_2_mother = OTU_table1.copy()\n",
    "individual_4_2_mother_columns = ['76','77','78','88','89','90']\n",
    "individual_4_2_mother = individual_4_2_mother[individual_4_2_mother_columns]\n",
    "individual_4_2_mother.drop(axis = 0, index = \"Family\", inplace = True)\n",
    "\n",
    "# Individual 4-3, male \n",
    "individual_4_3_child1 = OTU_table1.copy()\n",
    "individual_4_3_child1_columns = ['79','80','81','91','92','93']\n",
    "individual_4_3_child1 = individual_4_3_child1[individual_4_3_child1_columns]\n",
    "individual_4_3_child1.drop(axis = 0, index = \"Family\", inplace = True)\n",
    "\n",
    "# Individual 4-4, youngest female \n",
    "individual_4_4_child2 = OTU_table1.copy()\n",
    "individual_4_4_child2_columns = ['82','83','84','94','95','96']\n",
    "individual_4_4_child2 = individual_4_4_child2[individual_4_4_child2_columns]\n",
    "individual_4_4_child2.drop(axis = 0, index = \"Family\", inplace = True)"
   ]
  },
  {
   "cell_type": "markdown",
   "metadata": {},
   "source": [
    "<center><h1> Heatmaps </h1></center>"
   ]
  },
  {
   "cell_type": "code",
   "execution_count": 12,
   "metadata": {},
   "outputs": [
    {
     "data": {
      "text/html": [
       "<div>\n",
       "<style scoped>\n",
       "    .dataframe tbody tr th:only-of-type {\n",
       "        vertical-align: middle;\n",
       "    }\n",
       "\n",
       "    .dataframe tbody tr th {\n",
       "        vertical-align: top;\n",
       "    }\n",
       "\n",
       "    .dataframe thead th {\n",
       "        text-align: right;\n",
       "    }\n",
       "</style>\n",
       "<table border=\"1\" class=\"dataframe\">\n",
       "  <thead>\n",
       "    <tr style=\"text-align: right;\">\n",
       "      <th></th>\n",
       "      <th>1</th>\n",
       "      <th>2</th>\n",
       "      <th>3</th>\n",
       "      <th>4</th>\n",
       "      <th>5</th>\n",
       "      <th>6</th>\n",
       "      <th>7</th>\n",
       "      <th>8</th>\n",
       "      <th>9</th>\n",
       "      <th>10</th>\n",
       "      <th>...</th>\n",
       "      <th>87</th>\n",
       "      <th>88</th>\n",
       "      <th>89</th>\n",
       "      <th>90</th>\n",
       "      <th>91</th>\n",
       "      <th>92</th>\n",
       "      <th>93</th>\n",
       "      <th>94</th>\n",
       "      <th>95</th>\n",
       "      <th>96</th>\n",
       "    </tr>\n",
       "    <tr>\n",
       "      <th>Sample</th>\n",
       "      <th></th>\n",
       "      <th></th>\n",
       "      <th></th>\n",
       "      <th></th>\n",
       "      <th></th>\n",
       "      <th></th>\n",
       "      <th></th>\n",
       "      <th></th>\n",
       "      <th></th>\n",
       "      <th></th>\n",
       "      <th></th>\n",
       "      <th></th>\n",
       "      <th></th>\n",
       "      <th></th>\n",
       "      <th></th>\n",
       "      <th></th>\n",
       "      <th></th>\n",
       "      <th></th>\n",
       "      <th></th>\n",
       "      <th></th>\n",
       "      <th></th>\n",
       "    </tr>\n",
       "  </thead>\n",
       "  <tbody>\n",
       "    <tr>\n",
       "      <th>Unassigned;Other;Other;Other;Other;Other</th>\n",
       "      <td>0.098334</td>\n",
       "      <td>0.049853</td>\n",
       "      <td>0.037298</td>\n",
       "      <td>0.015194</td>\n",
       "      <td>0.032395</td>\n",
       "      <td>0.035807</td>\n",
       "      <td>0.033486</td>\n",
       "      <td>0.035065</td>\n",
       "      <td>0.042170</td>\n",
       "      <td>0.056088</td>\n",
       "      <td>...</td>\n",
       "      <td>0.022213</td>\n",
       "      <td>0.025418</td>\n",
       "      <td>0.021627</td>\n",
       "      <td>0.030958</td>\n",
       "      <td>0.026389</td>\n",
       "      <td>0.019443</td>\n",
       "      <td>0.019863</td>\n",
       "      <td>0.019760</td>\n",
       "      <td>0.021464</td>\n",
       "      <td>0.022003</td>\n",
       "    </tr>\n",
       "    <tr>\n",
       "      <th>k__Bacteria;Other;Other;Other;Other;Other</th>\n",
       "      <td>0.000000</td>\n",
       "      <td>0.000000</td>\n",
       "      <td>0.000000</td>\n",
       "      <td>0.000000</td>\n",
       "      <td>0.000000</td>\n",
       "      <td>0.000000</td>\n",
       "      <td>0.000000</td>\n",
       "      <td>0.000000</td>\n",
       "      <td>0.000000</td>\n",
       "      <td>0.000000</td>\n",
       "      <td>...</td>\n",
       "      <td>0.000000</td>\n",
       "      <td>0.000000</td>\n",
       "      <td>0.000000</td>\n",
       "      <td>0.000000</td>\n",
       "      <td>0.000000</td>\n",
       "      <td>0.000000</td>\n",
       "      <td>0.000000</td>\n",
       "      <td>0.000000</td>\n",
       "      <td>0.000000</td>\n",
       "      <td>0.000000</td>\n",
       "    </tr>\n",
       "    <tr>\n",
       "      <th>k__Bacteria;p__Actinobacteria;c__Actinobacteria;o__Actinomycetales;Other;Other</th>\n",
       "      <td>0.000000</td>\n",
       "      <td>0.000000</td>\n",
       "      <td>0.000352</td>\n",
       "      <td>0.000000</td>\n",
       "      <td>0.000000</td>\n",
       "      <td>0.000000</td>\n",
       "      <td>0.000000</td>\n",
       "      <td>0.000000</td>\n",
       "      <td>0.000000</td>\n",
       "      <td>0.000000</td>\n",
       "      <td>...</td>\n",
       "      <td>0.000000</td>\n",
       "      <td>0.000000</td>\n",
       "      <td>0.000000</td>\n",
       "      <td>0.000000</td>\n",
       "      <td>0.000000</td>\n",
       "      <td>0.000000</td>\n",
       "      <td>0.000000</td>\n",
       "      <td>0.000000</td>\n",
       "      <td>0.000000</td>\n",
       "      <td>0.000000</td>\n",
       "    </tr>\n",
       "    <tr>\n",
       "      <th>k__Bacteria;p__Actinobacteria;c__Actinobacteria;o__Actinomycetales;f__Actinomycetaceae;Other</th>\n",
       "      <td>0.000000</td>\n",
       "      <td>0.000000</td>\n",
       "      <td>0.000000</td>\n",
       "      <td>0.000000</td>\n",
       "      <td>0.000000</td>\n",
       "      <td>0.000000</td>\n",
       "      <td>0.000000</td>\n",
       "      <td>0.000000</td>\n",
       "      <td>0.000000</td>\n",
       "      <td>0.000000</td>\n",
       "      <td>...</td>\n",
       "      <td>0.000000</td>\n",
       "      <td>0.000000</td>\n",
       "      <td>0.000000</td>\n",
       "      <td>0.000000</td>\n",
       "      <td>0.000000</td>\n",
       "      <td>0.000000</td>\n",
       "      <td>0.000000</td>\n",
       "      <td>0.000000</td>\n",
       "      <td>0.000000</td>\n",
       "      <td>0.000000</td>\n",
       "    </tr>\n",
       "    <tr>\n",
       "      <th>k__Bacteria;p__Actinobacteria;c__Actinobacteria;o__Actinomycetales;f__Actinomycetaceae;g__</th>\n",
       "      <td>0.000000</td>\n",
       "      <td>0.000000</td>\n",
       "      <td>0.000000</td>\n",
       "      <td>0.000000</td>\n",
       "      <td>0.000000</td>\n",
       "      <td>0.000000</td>\n",
       "      <td>0.001147</td>\n",
       "      <td>0.000000</td>\n",
       "      <td>0.004087</td>\n",
       "      <td>0.000456</td>\n",
       "      <td>...</td>\n",
       "      <td>0.000000</td>\n",
       "      <td>0.000000</td>\n",
       "      <td>0.000305</td>\n",
       "      <td>0.000000</td>\n",
       "      <td>0.001287</td>\n",
       "      <td>0.000788</td>\n",
       "      <td>0.000427</td>\n",
       "      <td>0.000000</td>\n",
       "      <td>0.000000</td>\n",
       "      <td>0.000000</td>\n",
       "    </tr>\n",
       "    <tr>\n",
       "      <th>...</th>\n",
       "      <td>...</td>\n",
       "      <td>...</td>\n",
       "      <td>...</td>\n",
       "      <td>...</td>\n",
       "      <td>...</td>\n",
       "      <td>...</td>\n",
       "      <td>...</td>\n",
       "      <td>...</td>\n",
       "      <td>...</td>\n",
       "      <td>...</td>\n",
       "      <td>...</td>\n",
       "      <td>...</td>\n",
       "      <td>...</td>\n",
       "      <td>...</td>\n",
       "      <td>...</td>\n",
       "      <td>...</td>\n",
       "      <td>...</td>\n",
       "      <td>...</td>\n",
       "      <td>...</td>\n",
       "      <td>...</td>\n",
       "      <td>...</td>\n",
       "    </tr>\n",
       "    <tr>\n",
       "      <th>k__Bacteria;p__TM7;c__TM7-3;o__CW040;f__;g__</th>\n",
       "      <td>0.005445</td>\n",
       "      <td>0.002199</td>\n",
       "      <td>0.003519</td>\n",
       "      <td>0.002251</td>\n",
       "      <td>0.010176</td>\n",
       "      <td>0.005537</td>\n",
       "      <td>0.000459</td>\n",
       "      <td>0.000000</td>\n",
       "      <td>0.000000</td>\n",
       "      <td>0.009120</td>\n",
       "      <td>...</td>\n",
       "      <td>0.000415</td>\n",
       "      <td>0.009683</td>\n",
       "      <td>0.025586</td>\n",
       "      <td>0.011450</td>\n",
       "      <td>0.000000</td>\n",
       "      <td>0.016290</td>\n",
       "      <td>0.000214</td>\n",
       "      <td>0.000407</td>\n",
       "      <td>0.000429</td>\n",
       "      <td>0.002945</td>\n",
       "    </tr>\n",
       "    <tr>\n",
       "      <th>k__Bacteria;p__TM7;c__TM7-3;o__CW040;f__F16;g__</th>\n",
       "      <td>0.011211</td>\n",
       "      <td>0.002933</td>\n",
       "      <td>0.002463</td>\n",
       "      <td>0.001970</td>\n",
       "      <td>0.003901</td>\n",
       "      <td>0.000738</td>\n",
       "      <td>0.006193</td>\n",
       "      <td>0.005195</td>\n",
       "      <td>0.008360</td>\n",
       "      <td>0.009576</td>\n",
       "      <td>...</td>\n",
       "      <td>0.000208</td>\n",
       "      <td>0.000484</td>\n",
       "      <td>0.000914</td>\n",
       "      <td>0.000000</td>\n",
       "      <td>0.000000</td>\n",
       "      <td>0.001051</td>\n",
       "      <td>0.000641</td>\n",
       "      <td>0.000407</td>\n",
       "      <td>0.001502</td>\n",
       "      <td>0.001386</td>\n",
       "    </tr>\n",
       "    <tr>\n",
       "      <th>k__Bacteria;p__TM7;c__TM7-3;o__I025;f__Rs-045;g__</th>\n",
       "      <td>0.017297</td>\n",
       "      <td>0.018328</td>\n",
       "      <td>0.008797</td>\n",
       "      <td>0.000000</td>\n",
       "      <td>0.000000</td>\n",
       "      <td>0.000369</td>\n",
       "      <td>0.000000</td>\n",
       "      <td>0.000000</td>\n",
       "      <td>0.000000</td>\n",
       "      <td>0.002280</td>\n",
       "      <td>...</td>\n",
       "      <td>0.000000</td>\n",
       "      <td>0.000968</td>\n",
       "      <td>0.000305</td>\n",
       "      <td>0.000000</td>\n",
       "      <td>0.000000</td>\n",
       "      <td>0.000000</td>\n",
       "      <td>0.000000</td>\n",
       "      <td>0.000000</td>\n",
       "      <td>0.000000</td>\n",
       "      <td>0.000000</td>\n",
       "    </tr>\n",
       "    <tr>\n",
       "      <th>k__Bacteria;p__Tenericutes;c__Mollicutes;o__Mycoplasmatales;f__Mycoplasmataceae;g__Mycoplasma</th>\n",
       "      <td>0.001281</td>\n",
       "      <td>0.002199</td>\n",
       "      <td>0.000704</td>\n",
       "      <td>0.000000</td>\n",
       "      <td>0.000000</td>\n",
       "      <td>0.000000</td>\n",
       "      <td>0.000000</td>\n",
       "      <td>0.000000</td>\n",
       "      <td>0.000000</td>\n",
       "      <td>0.000000</td>\n",
       "      <td>...</td>\n",
       "      <td>0.000000</td>\n",
       "      <td>0.000484</td>\n",
       "      <td>0.000000</td>\n",
       "      <td>0.000000</td>\n",
       "      <td>0.000000</td>\n",
       "      <td>0.000000</td>\n",
       "      <td>0.000000</td>\n",
       "      <td>0.000000</td>\n",
       "      <td>0.000000</td>\n",
       "      <td>0.000000</td>\n",
       "    </tr>\n",
       "    <tr>\n",
       "      <th>k__Bacteria;p__Tenericutes;c__Mollicutes;o__RF39;f__;g__</th>\n",
       "      <td>0.000000</td>\n",
       "      <td>0.000733</td>\n",
       "      <td>0.000000</td>\n",
       "      <td>0.001688</td>\n",
       "      <td>0.007463</td>\n",
       "      <td>0.004799</td>\n",
       "      <td>0.010780</td>\n",
       "      <td>0.007792</td>\n",
       "      <td>0.007059</td>\n",
       "      <td>0.007296</td>\n",
       "      <td>...</td>\n",
       "      <td>0.001038</td>\n",
       "      <td>0.000484</td>\n",
       "      <td>0.000000</td>\n",
       "      <td>0.000000</td>\n",
       "      <td>0.000000</td>\n",
       "      <td>0.000000</td>\n",
       "      <td>0.000000</td>\n",
       "      <td>0.000000</td>\n",
       "      <td>0.000000</td>\n",
       "      <td>0.000000</td>\n",
       "    </tr>\n",
       "  </tbody>\n",
       "</table>\n",
       "<p>99 rows × 96 columns</p>\n",
       "</div>"
      ],
      "text/plain": [
       "                                                           1         2  \\\n",
       "Sample                                                                   \n",
       "Unassigned;Other;Other;Other;Other;Other            0.098334  0.049853   \n",
       "k__Bacteria;Other;Other;Other;Other;Other           0.000000  0.000000   \n",
       "k__Bacteria;p__Actinobacteria;c__Actinobacteria...  0.000000  0.000000   \n",
       "k__Bacteria;p__Actinobacteria;c__Actinobacteria...  0.000000  0.000000   \n",
       "k__Bacteria;p__Actinobacteria;c__Actinobacteria...  0.000000  0.000000   \n",
       "...                                                      ...       ...   \n",
       "k__Bacteria;p__TM7;c__TM7-3;o__CW040;f__;g__        0.005445  0.002199   \n",
       "k__Bacteria;p__TM7;c__TM7-3;o__CW040;f__F16;g__     0.011211  0.002933   \n",
       "k__Bacteria;p__TM7;c__TM7-3;o__I025;f__Rs-045;g__   0.017297  0.018328   \n",
       "k__Bacteria;p__Tenericutes;c__Mollicutes;o__Myc...  0.001281  0.002199   \n",
       "k__Bacteria;p__Tenericutes;c__Mollicutes;o__RF3...  0.000000  0.000733   \n",
       "\n",
       "                                                           3         4  \\\n",
       "Sample                                                                   \n",
       "Unassigned;Other;Other;Other;Other;Other            0.037298  0.015194   \n",
       "k__Bacteria;Other;Other;Other;Other;Other           0.000000  0.000000   \n",
       "k__Bacteria;p__Actinobacteria;c__Actinobacteria...  0.000352  0.000000   \n",
       "k__Bacteria;p__Actinobacteria;c__Actinobacteria...  0.000000  0.000000   \n",
       "k__Bacteria;p__Actinobacteria;c__Actinobacteria...  0.000000  0.000000   \n",
       "...                                                      ...       ...   \n",
       "k__Bacteria;p__TM7;c__TM7-3;o__CW040;f__;g__        0.003519  0.002251   \n",
       "k__Bacteria;p__TM7;c__TM7-3;o__CW040;f__F16;g__     0.002463  0.001970   \n",
       "k__Bacteria;p__TM7;c__TM7-3;o__I025;f__Rs-045;g__   0.008797  0.000000   \n",
       "k__Bacteria;p__Tenericutes;c__Mollicutes;o__Myc...  0.000704  0.000000   \n",
       "k__Bacteria;p__Tenericutes;c__Mollicutes;o__RF3...  0.000000  0.001688   \n",
       "\n",
       "                                                           5         6  \\\n",
       "Sample                                                                   \n",
       "Unassigned;Other;Other;Other;Other;Other            0.032395  0.035807   \n",
       "k__Bacteria;Other;Other;Other;Other;Other           0.000000  0.000000   \n",
       "k__Bacteria;p__Actinobacteria;c__Actinobacteria...  0.000000  0.000000   \n",
       "k__Bacteria;p__Actinobacteria;c__Actinobacteria...  0.000000  0.000000   \n",
       "k__Bacteria;p__Actinobacteria;c__Actinobacteria...  0.000000  0.000000   \n",
       "...                                                      ...       ...   \n",
       "k__Bacteria;p__TM7;c__TM7-3;o__CW040;f__;g__        0.010176  0.005537   \n",
       "k__Bacteria;p__TM7;c__TM7-3;o__CW040;f__F16;g__     0.003901  0.000738   \n",
       "k__Bacteria;p__TM7;c__TM7-3;o__I025;f__Rs-045;g__   0.000000  0.000369   \n",
       "k__Bacteria;p__Tenericutes;c__Mollicutes;o__Myc...  0.000000  0.000000   \n",
       "k__Bacteria;p__Tenericutes;c__Mollicutes;o__RF3...  0.007463  0.004799   \n",
       "\n",
       "                                                           7         8  \\\n",
       "Sample                                                                   \n",
       "Unassigned;Other;Other;Other;Other;Other            0.033486  0.035065   \n",
       "k__Bacteria;Other;Other;Other;Other;Other           0.000000  0.000000   \n",
       "k__Bacteria;p__Actinobacteria;c__Actinobacteria...  0.000000  0.000000   \n",
       "k__Bacteria;p__Actinobacteria;c__Actinobacteria...  0.000000  0.000000   \n",
       "k__Bacteria;p__Actinobacteria;c__Actinobacteria...  0.001147  0.000000   \n",
       "...                                                      ...       ...   \n",
       "k__Bacteria;p__TM7;c__TM7-3;o__CW040;f__;g__        0.000459  0.000000   \n",
       "k__Bacteria;p__TM7;c__TM7-3;o__CW040;f__F16;g__     0.006193  0.005195   \n",
       "k__Bacteria;p__TM7;c__TM7-3;o__I025;f__Rs-045;g__   0.000000  0.000000   \n",
       "k__Bacteria;p__Tenericutes;c__Mollicutes;o__Myc...  0.000000  0.000000   \n",
       "k__Bacteria;p__Tenericutes;c__Mollicutes;o__RF3...  0.010780  0.007792   \n",
       "\n",
       "                                                           9        10  ...  \\\n",
       "Sample                                                                  ...   \n",
       "Unassigned;Other;Other;Other;Other;Other            0.042170  0.056088  ...   \n",
       "k__Bacteria;Other;Other;Other;Other;Other           0.000000  0.000000  ...   \n",
       "k__Bacteria;p__Actinobacteria;c__Actinobacteria...  0.000000  0.000000  ...   \n",
       "k__Bacteria;p__Actinobacteria;c__Actinobacteria...  0.000000  0.000000  ...   \n",
       "k__Bacteria;p__Actinobacteria;c__Actinobacteria...  0.004087  0.000456  ...   \n",
       "...                                                      ...       ...  ...   \n",
       "k__Bacteria;p__TM7;c__TM7-3;o__CW040;f__;g__        0.000000  0.009120  ...   \n",
       "k__Bacteria;p__TM7;c__TM7-3;o__CW040;f__F16;g__     0.008360  0.009576  ...   \n",
       "k__Bacteria;p__TM7;c__TM7-3;o__I025;f__Rs-045;g__   0.000000  0.002280  ...   \n",
       "k__Bacteria;p__Tenericutes;c__Mollicutes;o__Myc...  0.000000  0.000000  ...   \n",
       "k__Bacteria;p__Tenericutes;c__Mollicutes;o__RF3...  0.007059  0.007296  ...   \n",
       "\n",
       "                                                          87        88  \\\n",
       "Sample                                                                   \n",
       "Unassigned;Other;Other;Other;Other;Other            0.022213  0.025418   \n",
       "k__Bacteria;Other;Other;Other;Other;Other           0.000000  0.000000   \n",
       "k__Bacteria;p__Actinobacteria;c__Actinobacteria...  0.000000  0.000000   \n",
       "k__Bacteria;p__Actinobacteria;c__Actinobacteria...  0.000000  0.000000   \n",
       "k__Bacteria;p__Actinobacteria;c__Actinobacteria...  0.000000  0.000000   \n",
       "...                                                      ...       ...   \n",
       "k__Bacteria;p__TM7;c__TM7-3;o__CW040;f__;g__        0.000415  0.009683   \n",
       "k__Bacteria;p__TM7;c__TM7-3;o__CW040;f__F16;g__     0.000208  0.000484   \n",
       "k__Bacteria;p__TM7;c__TM7-3;o__I025;f__Rs-045;g__   0.000000  0.000968   \n",
       "k__Bacteria;p__Tenericutes;c__Mollicutes;o__Myc...  0.000000  0.000484   \n",
       "k__Bacteria;p__Tenericutes;c__Mollicutes;o__RF3...  0.001038  0.000484   \n",
       "\n",
       "                                                          89        90  \\\n",
       "Sample                                                                   \n",
       "Unassigned;Other;Other;Other;Other;Other            0.021627  0.030958   \n",
       "k__Bacteria;Other;Other;Other;Other;Other           0.000000  0.000000   \n",
       "k__Bacteria;p__Actinobacteria;c__Actinobacteria...  0.000000  0.000000   \n",
       "k__Bacteria;p__Actinobacteria;c__Actinobacteria...  0.000000  0.000000   \n",
       "k__Bacteria;p__Actinobacteria;c__Actinobacteria...  0.000305  0.000000   \n",
       "...                                                      ...       ...   \n",
       "k__Bacteria;p__TM7;c__TM7-3;o__CW040;f__;g__        0.025586  0.011450   \n",
       "k__Bacteria;p__TM7;c__TM7-3;o__CW040;f__F16;g__     0.000914  0.000000   \n",
       "k__Bacteria;p__TM7;c__TM7-3;o__I025;f__Rs-045;g__   0.000305  0.000000   \n",
       "k__Bacteria;p__Tenericutes;c__Mollicutes;o__Myc...  0.000000  0.000000   \n",
       "k__Bacteria;p__Tenericutes;c__Mollicutes;o__RF3...  0.000000  0.000000   \n",
       "\n",
       "                                                          91        92  \\\n",
       "Sample                                                                   \n",
       "Unassigned;Other;Other;Other;Other;Other            0.026389  0.019443   \n",
       "k__Bacteria;Other;Other;Other;Other;Other           0.000000  0.000000   \n",
       "k__Bacteria;p__Actinobacteria;c__Actinobacteria...  0.000000  0.000000   \n",
       "k__Bacteria;p__Actinobacteria;c__Actinobacteria...  0.000000  0.000000   \n",
       "k__Bacteria;p__Actinobacteria;c__Actinobacteria...  0.001287  0.000788   \n",
       "...                                                      ...       ...   \n",
       "k__Bacteria;p__TM7;c__TM7-3;o__CW040;f__;g__        0.000000  0.016290   \n",
       "k__Bacteria;p__TM7;c__TM7-3;o__CW040;f__F16;g__     0.000000  0.001051   \n",
       "k__Bacteria;p__TM7;c__TM7-3;o__I025;f__Rs-045;g__   0.000000  0.000000   \n",
       "k__Bacteria;p__Tenericutes;c__Mollicutes;o__Myc...  0.000000  0.000000   \n",
       "k__Bacteria;p__Tenericutes;c__Mollicutes;o__RF3...  0.000000  0.000000   \n",
       "\n",
       "                                                          93        94  \\\n",
       "Sample                                                                   \n",
       "Unassigned;Other;Other;Other;Other;Other            0.019863  0.019760   \n",
       "k__Bacteria;Other;Other;Other;Other;Other           0.000000  0.000000   \n",
       "k__Bacteria;p__Actinobacteria;c__Actinobacteria...  0.000000  0.000000   \n",
       "k__Bacteria;p__Actinobacteria;c__Actinobacteria...  0.000000  0.000000   \n",
       "k__Bacteria;p__Actinobacteria;c__Actinobacteria...  0.000427  0.000000   \n",
       "...                                                      ...       ...   \n",
       "k__Bacteria;p__TM7;c__TM7-3;o__CW040;f__;g__        0.000214  0.000407   \n",
       "k__Bacteria;p__TM7;c__TM7-3;o__CW040;f__F16;g__     0.000641  0.000407   \n",
       "k__Bacteria;p__TM7;c__TM7-3;o__I025;f__Rs-045;g__   0.000000  0.000000   \n",
       "k__Bacteria;p__Tenericutes;c__Mollicutes;o__Myc...  0.000000  0.000000   \n",
       "k__Bacteria;p__Tenericutes;c__Mollicutes;o__RF3...  0.000000  0.000000   \n",
       "\n",
       "                                                          95        96  \n",
       "Sample                                                                  \n",
       "Unassigned;Other;Other;Other;Other;Other            0.021464  0.022003  \n",
       "k__Bacteria;Other;Other;Other;Other;Other           0.000000  0.000000  \n",
       "k__Bacteria;p__Actinobacteria;c__Actinobacteria...  0.000000  0.000000  \n",
       "k__Bacteria;p__Actinobacteria;c__Actinobacteria...  0.000000  0.000000  \n",
       "k__Bacteria;p__Actinobacteria;c__Actinobacteria...  0.000000  0.000000  \n",
       "...                                                      ...       ...  \n",
       "k__Bacteria;p__TM7;c__TM7-3;o__CW040;f__;g__        0.000429  0.002945  \n",
       "k__Bacteria;p__TM7;c__TM7-3;o__CW040;f__F16;g__     0.001502  0.001386  \n",
       "k__Bacteria;p__TM7;c__TM7-3;o__I025;f__Rs-045;g__   0.000000  0.000000  \n",
       "k__Bacteria;p__Tenericutes;c__Mollicutes;o__Myc...  0.000000  0.000000  \n",
       "k__Bacteria;p__Tenericutes;c__Mollicutes;o__RF3...  0.000000  0.000000  \n",
       "\n",
       "[99 rows x 96 columns]"
      ]
     },
     "execution_count": 12,
     "metadata": {},
     "output_type": "execute_result"
    }
   ],
   "source": [
    "all_families"
   ]
  },
  {
   "cell_type": "code",
   "execution_count": 70,
   "metadata": {},
   "outputs": [
    {
     "data": {
      "text/plain": [
       "9504"
      ]
     },
     "execution_count": 70,
     "metadata": {},
     "output_type": "execute_result"
    }
   ],
   "source": [
    "all_families.size"
   ]
  },
  {
   "cell_type": "code",
   "execution_count": 14,
   "metadata": {},
   "outputs": [
    {
     "data": {
      "text/plain": [
       "5576"
      ]
     },
     "execution_count": 14,
     "metadata": {},
     "output_type": "execute_result"
    }
   ],
   "source": [
    "sum((all_families == 0).astype(int).sum(axis=1))"
   ]
  },
  {
   "cell_type": "code",
   "execution_count": 15,
   "metadata": {},
   "outputs": [
    {
     "data": {
      "text/plain": [
       "58.670033670033675"
      ]
     },
     "execution_count": 15,
     "metadata": {},
     "output_type": "execute_result"
    }
   ],
   "source": [
    "(5576/9504) * 100\n",
    "# why is 58% of the data kept if there all zero values? "
   ]
  },
  {
   "cell_type": "code",
   "execution_count": 16,
   "metadata": {},
   "outputs": [],
   "source": [
    "# Heatmap 1\n",
    "fig = go.Figure(data = go.Heatmap(\n",
    "                   z = all_families.values,\n",
    "                   x = all_families.columns,\n",
    "                   y = all_families.index,\n",
    "                   hoverongaps = False))\n",
    "\n",
    "fig.update_layout(\n",
    "    \n",
    "    title={\n",
    "        'text': \"All Families\",\n",
    "        'y':0.9,\n",
    "        'x':0.5,\n",
    "        'xanchor': 'center',\n",
    "        'yanchor': 'top'},\n",
    "    \n",
    "    font=dict(\n",
    "        family=\"Times New Roman\",\n",
    "        size=8\n",
    "    ),\n",
    "    \n",
    "    xaxis_title=\"Sample\")\n",
    "\n",
    "\n",
    "# fig.show()\n",
    "fig.write_image(\"Heatmaps/all_families.png\")"
   ]
  },
  {
   "cell_type": "code",
   "execution_count": 17,
   "metadata": {},
   "outputs": [],
   "source": [
    "# Heatmap 2\n",
    "fig1 = go.Figure(data = go.Heatmap(\n",
    "                   z = family1.values,\n",
    "                   x = family1.columns,\n",
    "                   y = family1.index,\n",
    "                   hoverongaps = False,\n",
    "                   zmin = 0, zmax = 1))\n",
    "\n",
    "\n",
    "fig1.update_layout(\n",
    "    \n",
    "    title={\n",
    "        'text': \"Family 1\",\n",
    "        'y':0.9,\n",
    "        'x':0.5,\n",
    "        'xanchor': 'center',\n",
    "        'yanchor': 'top'},\n",
    "    \n",
    "    font=dict(\n",
    "        family=\"Times New Roman\",\n",
    "        size=8\n",
    "    ),\n",
    "    \n",
    "    xaxis_title=\"Sample\")\n",
    "\n",
    "\n",
    "# fig1.show()\n",
    "fig1.write_image(\"Heatmaps/family_1.png\")"
   ]
  },
  {
   "cell_type": "code",
   "execution_count": 54,
   "metadata": {},
   "outputs": [],
   "source": [
    "# Heatmap 3\n",
    "fig2 = go.Figure(data = go.Heatmap(\n",
    "                   z = family3.values,\n",
    "                   x = family3.columns,\n",
    "                   y = family3.index,\n",
    "                   hoverongaps = False,\n",
    "                   zmin = 0, zmax = 1))\n",
    "\n",
    "fig2.update_layout(\n",
    "    \n",
    "    title={\n",
    "        'text': \"Family 3\",\n",
    "        'y':0.9,\n",
    "        'x':0.5,\n",
    "        'xanchor': 'center',\n",
    "        'yanchor': 'top'},\n",
    "    \n",
    "    font=dict(\n",
    "        family=\"Times New Roman\",\n",
    "        size=8\n",
    "    ),\n",
    "    \n",
    "    xaxis_title=\"Sample\")\n",
    "\n",
    "# fig2.show()\n",
    "fig2.write_image(\"Heatmaps/family_3.png\")"
   ]
  },
  {
   "cell_type": "code",
   "execution_count": 55,
   "metadata": {},
   "outputs": [],
   "source": [
    "# Heatmap 4\n",
    "fig3 = go.Figure(data = go.Heatmap(\n",
    "                   z = family2.values,\n",
    "                   x = family2.columns,\n",
    "                   y = family2.index,\n",
    "                   zmin = 0, zmax = 1))\n",
    "\n",
    "fig3.update_layout(\n",
    "    \n",
    "    title={\n",
    "        'text': \"Family 2\",\n",
    "        'y':0.9,\n",
    "        'x':0.5,\n",
    "        'xanchor': 'center',\n",
    "        'yanchor': 'top'},\n",
    "    \n",
    "    font=dict(\n",
    "        family=\"Times New Roman\",\n",
    "        size=8\n",
    "    ),\n",
    "    \n",
    "    xaxis_title=\"Sample\")\n",
    "\n",
    "\n",
    "# fig3.show()\n",
    "fig3.write_image(\"Heatmaps/family_2.png\")"
   ]
  },
  {
   "cell_type": "code",
   "execution_count": 20,
   "metadata": {},
   "outputs": [],
   "source": [
    "# Heatmap 4\n",
    "fig4 = go.Figure(data = go.Heatmap(\n",
    "                   z = family4.values,\n",
    "                   x = family4.columns,\n",
    "                   y = family4.index,\n",
    "                   zmin = 0, zmax = 1))\n",
    "\n",
    "\n",
    "fig4.update_layout(\n",
    "    \n",
    "    title={\n",
    "        'text': \"Family 4\",\n",
    "        'y':0.9,\n",
    "        'x':0.5,\n",
    "        'xanchor': 'center',\n",
    "        'yanchor': 'top'},\n",
    "    \n",
    "    font=dict(\n",
    "        family=\"Times New Roman\",\n",
    "        size=8\n",
    "    ),\n",
    "    \n",
    "    xaxis_title=\"Sample\")\n",
    "\n",
    "# fig4.show()\n",
    "fig4.write_image(\"Heatmaps/family_4.png\")"
   ]
  },
  {
   "cell_type": "code",
   "execution_count": 21,
   "metadata": {},
   "outputs": [],
   "source": [
    " fig5 = go.Figure(data = go.Heatmap(\n",
    "                   z = individual_1_father.values,\n",
    "                   x = individual_1_father.columns,\n",
    "                   y = individual_1_father.index,              \n",
    "                   hoverongaps = False,\n",
    "                   zmin = 0, zmax = 1))\n",
    "    \n",
    "fig5.update_layout(\n",
    "    \n",
    "    title={\n",
    "        'text': \"Individual 1: Father\",\n",
    "        'y':0.9,\n",
    "        'x':0.5,\n",
    "        'xanchor': 'center',\n",
    "        'yanchor': 'top'},\n",
    "    \n",
    "    font=dict(\n",
    "        family=\"Times New Roman\",\n",
    "        size=8\n",
    "    ),\n",
    "    \n",
    "    xaxis_title=\"Sample\")    \n",
    "    \n",
    "    \n",
    "# fig5.show()\n",
    "fig5.write_image(\"Heatmaps/individual_1_father.png\")"
   ]
  },
  {
   "cell_type": "code",
   "execution_count": 22,
   "metadata": {},
   "outputs": [],
   "source": [
    "fig6 = go.Figure(data = go.Heatmap(\n",
    "                   z = individual_2_mother.values,\n",
    "                   x = individual_2_mother.columns,\n",
    "                   y = individual_2_mother.index,              \n",
    "                   hoverongaps = False,\n",
    "                   zmin = 0, zmax = 1))\n",
    "\n",
    "\n",
    "fig6.update_layout(\n",
    "    \n",
    "    title={\n",
    "        'text': \"Individual 2: Mother\",\n",
    "        'y':0.9,\n",
    "        'x':0.5,\n",
    "        'xanchor': 'center',\n",
    "        'yanchor': 'top'},\n",
    "    \n",
    "    font=dict(\n",
    "        family=\"Times New Roman\",\n",
    "        size=8\n",
    "    ),\n",
    "    \n",
    "    xaxis_title=\"Sample\") \n",
    "\n",
    "# fig6.show()\n",
    "fig6.write_image(\"Heatmaps/individual_2_mother.png\")"
   ]
  },
  {
   "cell_type": "code",
   "execution_count": 23,
   "metadata": {},
   "outputs": [],
   "source": [
    "fig7 = go.Figure(data = go.Heatmap(\n",
    "                   z = individual_3_child1.values,\n",
    "                   x = individual_3_child1.columns,\n",
    "                   y = individual_3_child1.index,              \n",
    "                   hoverongaps = False,\n",
    "                   zmin = 0, zmax = 1))\n",
    "\n",
    "fig7.update_layout(\n",
    "    \n",
    "    title={\n",
    "        'text': \"Individual 3: Child 1\",\n",
    "        'y':0.9,\n",
    "        'x':0.5,\n",
    "        'xanchor': 'center',\n",
    "        'yanchor': 'top'},\n",
    "    \n",
    "    font=dict(\n",
    "        family=\"Times New Roman\",\n",
    "        size=8\n",
    "    ),\n",
    "    \n",
    "    xaxis_title=\"Sample\") \n",
    "\n",
    "# fig7.show()\n",
    "fig7.write_image(\"Heatmaps/individual_3_child_1.png\")"
   ]
  },
  {
   "cell_type": "code",
   "execution_count": 24,
   "metadata": {},
   "outputs": [],
   "source": [
    "fig8 = go.Figure(data = go.Heatmap(\n",
    "                   z = individual_4_child2.values,\n",
    "                   x = individual_4_child2.columns,\n",
    "                   y = individual_4_child2.index,              \n",
    "                   hoverongaps = False,\n",
    "                   zmin = 0, zmax = 1))\n",
    "\n",
    "fig8.update_layout(\n",
    "    \n",
    "    title={\n",
    "        'text': \"Individual 4: Child 2\",\n",
    "        'y':0.9,\n",
    "        'x':0.5,\n",
    "        'xanchor': 'center',\n",
    "        'yanchor': 'top'},\n",
    "    \n",
    "    font=dict(\n",
    "        family=\"Times New Roman\",\n",
    "        size=8\n",
    "    ),\n",
    "    \n",
    "    xaxis_title=\"Sample\") \n",
    "\n",
    "\n",
    "# fig8.show()\n",
    "fig8.write_image(\"Heatmaps/individual_4child_2.png\")"
   ]
  },
  {
   "cell_type": "code",
   "execution_count": 25,
   "metadata": {},
   "outputs": [],
   "source": [
    "fig20 = go.Figure(data = go.Heatmap(\n",
    "                   z = individual_2_1_father.values,\n",
    "                   x = individual_2_1_father.columns,\n",
    "                   y = individual_2_1_father.index,              \n",
    "                   hoverongaps = False,\n",
    "                   zmin = 0, zmax = 1))\n",
    "\n",
    "\n",
    "fig20.update_layout(\n",
    "    \n",
    "    title={\n",
    "        'text': \"Individual 2_1: Father\",\n",
    "        'y':0.9,\n",
    "        'x':0.5,\n",
    "        'xanchor': 'center',\n",
    "        'yanchor': 'top'},\n",
    "    \n",
    "    font=dict(\n",
    "        family=\"Times New Roman\",\n",
    "        size=8\n",
    "    ),\n",
    "    \n",
    "    xaxis_title=\"Sample\")\n",
    "\n",
    "# fig20.show()\n",
    "fig20.write_image(\"Heatmaps/individual_2_1_father.png\")"
   ]
  },
  {
   "cell_type": "code",
   "execution_count": 26,
   "metadata": {},
   "outputs": [],
   "source": [
    "fig9 = go.Figure(data = go.Heatmap(\n",
    "                   z = individual_2_2_mother.values,\n",
    "                   x = individual_2_2_mother.columns,\n",
    "                   y = individual_2_2_mother.index,                           \n",
    "                   hoverongaps = False,\n",
    "                   zmin = 0, zmax = 1))\n",
    "\n",
    "\n",
    "fig9.update_layout(\n",
    "    \n",
    "    title={\n",
    "        'text': \"Individual 2_2: Mother\",\n",
    "        'y':0.9,\n",
    "        'x':0.5,\n",
    "        'xanchor': 'center',\n",
    "        'yanchor': 'top'},\n",
    "    \n",
    "    font=dict(\n",
    "        family=\"Times New Roman\",\n",
    "        size=8\n",
    "    ),\n",
    "    \n",
    "    xaxis_title=\"Sample\")\n",
    "\n",
    "\n",
    "# fig9.show()\n",
    "fig9.write_image(\"Heatmaps/individual_2_2_mother.png\")"
   ]
  },
  {
   "cell_type": "code",
   "execution_count": 27,
   "metadata": {},
   "outputs": [],
   "source": [
    "fig10 = go.Figure(data = go.Heatmap(\n",
    "                   z = individual_2_3_child1.values,\n",
    "                   x = individual_2_3_child1.columns,\n",
    "                   y = individual_2_3_child1.index,                           \n",
    "                   hoverongaps = False,\n",
    "                   zmin = 0, zmax = 1))\n",
    "\n",
    "\n",
    "fig10.update_layout(\n",
    "    \n",
    "    title={\n",
    "        'text': \"Individual 2_3: Child 1\",\n",
    "        'y':0.9,\n",
    "        'x':0.5,\n",
    "        'xanchor': 'center',\n",
    "        'yanchor': 'top'},\n",
    "    \n",
    "    font=dict(\n",
    "        family=\"Times New Roman\",\n",
    "        size=8\n",
    "    ),\n",
    "    \n",
    "    xaxis_title=\"Sample\")\n",
    "\n",
    "# fig10.show()\n",
    "fig10.write_image(\"Heatmaps/individual_2_3_child1.png\")"
   ]
  },
  {
   "cell_type": "code",
   "execution_count": 28,
   "metadata": {},
   "outputs": [],
   "source": [
    "fig11 = go.Figure(data = go.Heatmap(\n",
    "                   z = individual_2_4_child2.values,\n",
    "                   x = individual_2_4_child2.columns,\n",
    "                   y = individual_2_4_child2.index,                           \n",
    "                   hoverongaps = False,\n",
    "                   zmin = 0, zmax = 1))\n",
    "\n",
    "\n",
    "fig11.update_layout(\n",
    "    \n",
    "    title={\n",
    "        'text': \"Individual 2_4: Child 2\",\n",
    "        'y':0.9,\n",
    "        'x':0.5,\n",
    "        'xanchor': 'center',\n",
    "        'yanchor': 'top'},\n",
    "    \n",
    "    font=dict(\n",
    "        family=\"Times New Roman\",\n",
    "        size=8\n",
    "    ),\n",
    "    \n",
    "    xaxis_title=\"Sample\")\n",
    "\n",
    "\n",
    "# fig11.show()\n",
    "fig11.write_image(\"Heatmaps/individual_2_4_child2.png\")"
   ]
  },
  {
   "cell_type": "code",
   "execution_count": 29,
   "metadata": {},
   "outputs": [],
   "source": [
    "fig12 = go.Figure(data = go.Heatmap(\n",
    "                   z = individual_3_1_father.values,\n",
    "                   x = individual_3_1_father.columns,\n",
    "                   y = individual_3_1_father.index,                           \n",
    "                   hoverongaps = False,\n",
    "                   zmin = 0, zmax = 1))\n",
    "\n",
    "fig12.update_layout(\n",
    "    \n",
    "    title={\n",
    "        'text': \"Individual 3_1: Father\",\n",
    "        'y':0.9,\n",
    "        'x':0.5,\n",
    "        'xanchor': 'center',\n",
    "        'yanchor': 'top'},\n",
    "    \n",
    "    font=dict(\n",
    "        family=\"Times New Roman\",\n",
    "        size=8\n",
    "    ),\n",
    "    \n",
    "    xaxis_title=\"Sample\")\n",
    "\n",
    "\n",
    "# fig12.show()\n",
    "fig12.write_image(\"Heatmaps/individual_3_1father.png\")"
   ]
  },
  {
   "cell_type": "code",
   "execution_count": 30,
   "metadata": {},
   "outputs": [],
   "source": [
    "fig13 = go.Figure(data = go.Heatmap(\n",
    "                   z = individual_3_2_mother.values,\n",
    "                   x = individual_3_2_mother.columns,\n",
    "                   y = individual_3_2_mother.index,                           \n",
    "                   hoverongaps = False,\n",
    "                   zmin = 0, zmax = 1))\n",
    "\n",
    "fig13.update_layout(\n",
    "    \n",
    "    title={\n",
    "        'text': \"Individual 3_2: Mother\",\n",
    "        'y':0.9,\n",
    "        'x':0.5,\n",
    "        'xanchor': 'center',\n",
    "        'yanchor': 'top'},\n",
    "    \n",
    "    font=dict(\n",
    "        family=\"Times New Roman\",\n",
    "        size=8\n",
    "    ),\n",
    "    \n",
    "    xaxis_title=\"Sample\")\n",
    "\n",
    "\n",
    "# fig13.show()\n",
    "fig13.write_image(\"Heatmaps/individual_3_2_mother.png\")"
   ]
  },
  {
   "cell_type": "code",
   "execution_count": 31,
   "metadata": {},
   "outputs": [],
   "source": [
    "fig14 = go.Figure(data = go.Heatmap(\n",
    "                   z = individual_3_3_child1.values,\n",
    "                   x = individual_3_3_child1.columns,\n",
    "                   y = individual_3_3_child1.index,                           \n",
    "                   hoverongaps = False,\n",
    "                   zmin = 0, zmax = 1))\n",
    "\n",
    "\n",
    "fig14.update_layout(\n",
    "    \n",
    "    title={\n",
    "        'text': \"Individual 3_3: Child 1\",\n",
    "        'y':0.9,\n",
    "        'x':0.5,\n",
    "        'xanchor': 'center',\n",
    "        'yanchor': 'top'},\n",
    "    \n",
    "    font=dict(\n",
    "        family=\"Times New Roman\",\n",
    "        size=8\n",
    "    ),\n",
    "    \n",
    "    xaxis_title=\"Sample\")\n",
    "\n",
    "\n",
    "# fig14.show()\n",
    "fig14.write_image(\"Heatmaps/individual_3_3_child1.png\")"
   ]
  },
  {
   "cell_type": "code",
   "execution_count": 32,
   "metadata": {},
   "outputs": [],
   "source": [
    "fig15 = go.Figure(data = go.Heatmap(\n",
    "                   z = individual_3_4_child2.values,\n",
    "                   x = individual_3_4_child2.columns,\n",
    "                   y = individual_3_4_child2.index,                           \n",
    "                   hoverongaps = False,\n",
    "                   zmin = 0, zmax = 1))\n",
    "\n",
    "\n",
    "fig15.update_layout(\n",
    "    \n",
    "    title={\n",
    "        'text': \"Individual 3_4: Child 2\",\n",
    "        'y':0.9,\n",
    "        'x':0.5,\n",
    "        'xanchor': 'center',\n",
    "        'yanchor': 'top'},\n",
    "    \n",
    "    font=dict(\n",
    "        family=\"Times New Roman\",\n",
    "        size=8\n",
    "    ),\n",
    "    \n",
    "    xaxis_title=\"Sample\")\n",
    "\n",
    "# fig15.show()\n",
    "fig15.write_image(\"Heatmaps/individual_3_4_child2.png\")"
   ]
  },
  {
   "cell_type": "code",
   "execution_count": 33,
   "metadata": {},
   "outputs": [],
   "source": [
    "fig16 = go.Figure(data = go.Heatmap(\n",
    "                   z = individual_4_1_father.values,\n",
    "                   x = individual_4_1_father.columns,\n",
    "                   y = individual_4_1_father.index,                           \n",
    "                   hoverongaps = False,\n",
    "                   zmin = 0, zmax = 1))\n",
    "\n",
    "\n",
    "fig16.update_layout(\n",
    "    \n",
    "    title={\n",
    "        'text': \"Individual 4_1: Father\",\n",
    "        'y':0.9,\n",
    "        'x':0.5,\n",
    "        'xanchor': 'center',\n",
    "        'yanchor': 'top'},\n",
    "    \n",
    "    font=dict(\n",
    "        family=\"Times New Roman\",\n",
    "        size=8\n",
    "    ),\n",
    "    \n",
    "    xaxis_title=\"Sample\")\n",
    "\n",
    "\n",
    "# fig16.show()\n",
    "fig16.write_image(\"Heatmaps/individual_4_1_father.png\")"
   ]
  },
  {
   "cell_type": "code",
   "execution_count": 34,
   "metadata": {},
   "outputs": [],
   "source": [
    "fig17 = go.Figure(data = go.Heatmap(\n",
    "                   z = individual_4_2_mother.values,\n",
    "                   x = individual_4_2_mother.columns,\n",
    "                   y = individual_4_2_mother.index,                           \n",
    "                   hoverongaps = False,\n",
    "                   zmin = 0, zmax = 1))\n",
    "\n",
    "fig17.update_layout(\n",
    "    \n",
    "    title={\n",
    "        'text': \"Individual 4_2: Mother\",\n",
    "        'y':0.9,\n",
    "        'x':0.5,\n",
    "        'xanchor': 'center',\n",
    "        'yanchor': 'top'},\n",
    "    \n",
    "    font=dict(\n",
    "        family=\"Times New Roman\",\n",
    "        size=8\n",
    "    ),\n",
    "    \n",
    "    xaxis_title=\"Sample\")\n",
    "\n",
    "\n",
    "# fig17.show()\n",
    "fig17.write_image(\"Heatmaps/individual_4_2_mother.png\")"
   ]
  },
  {
   "cell_type": "code",
   "execution_count": 35,
   "metadata": {},
   "outputs": [],
   "source": [
    "fig18 = go.Figure(data = go.Heatmap(\n",
    "                   z = individual_4_3_child1.values,\n",
    "                   x = individual_4_3_child1.columns,\n",
    "                   y = individual_4_3_child1.index,                           \n",
    "                   hoverongaps = False,\n",
    "                   zmin = 0, zmax = 1))\n",
    "\n",
    "fig18.update_layout(\n",
    "    \n",
    "    title={\n",
    "        'text': \"Individual 4_3: Child 1\",\n",
    "        'y':0.9,\n",
    "        'x':0.5,\n",
    "        'xanchor': 'center',\n",
    "        'yanchor': 'top'},\n",
    "    \n",
    "    font=dict(\n",
    "        family=\"Times New Roman\",\n",
    "        size=8\n",
    "    ),\n",
    "    \n",
    "    xaxis_title=\"Sample\")\n",
    "\n",
    "\n",
    "# fig18.show()\n",
    "fig18.write_image(\"Heatmaps/individual_4_3_child1.png\")"
   ]
  },
  {
   "cell_type": "code",
   "execution_count": 36,
   "metadata": {},
   "outputs": [],
   "source": [
    "fig19 = go.Figure(data = go.Heatmap(\n",
    "                   z = individual_4_4_child2.values,\n",
    "                   x = individual_4_4_child2.columns,\n",
    "                   y = individual_4_4_child2.index,                           \n",
    "                   hoverongaps = False,\n",
    "                   zmin = 0, zmax = 1))\n",
    "\n",
    "fig19.update_layout(\n",
    "    \n",
    "    title={\n",
    "        'text': \"Individual 4_4: Child 2\",\n",
    "        'y':0.9,\n",
    "        'x':0.5,\n",
    "        'xanchor': 'center',\n",
    "        'yanchor': 'top'},\n",
    "    \n",
    "    font=dict(\n",
    "        family=\"Times New Roman\",\n",
    "        size=8\n",
    "    ),\n",
    "    \n",
    "    xaxis_title=\"Sample\")\n",
    "\n",
    "\n",
    "# fig19.show()\n",
    "fig19.write_image(\"Heatmaps/individual_4_4_child2.png\")"
   ]
  },
  {
   "cell_type": "markdown",
   "metadata": {},
   "source": [
    "<center><h1> PCA Plots </h1></center>"
   ]
  },
  {
   "cell_type": "code",
   "execution_count": 37,
   "metadata": {},
   "outputs": [],
   "source": [
    "# Would it make sense to do PCA on individuals?"
   ]
  },
  {
   "cell_type": "code",
   "execution_count": 38,
   "metadata": {},
   "outputs": [
    {
     "data": {
      "image/png": "[encoded data removed]",
      "text/plain": [
       "<Figure size 432x288 with 1 Axes>"
      ]
     },
     "metadata": {
      "needs_background": "light"
     },
     "output_type": "display_data"
    }
   ],
   "source": [
    "# All Families PCA\n",
    "all_families_PCA = ep.pca(all_families, scale=False)\n",
    "all_families_PCA.biplot(type='correlation', obsNames = True)"
   ]
  },
  {
   "cell_type": "code",
   "execution_count": 39,
   "metadata": {},
   "outputs": [
    {
     "data": {
      "text/plain": [
       "1     0.021140\n",
       "2     0.003666\n",
       "3     0.006685\n",
       "4     0.027012\n",
       "5     0.121438\n",
       "        ...   \n",
       "92    0.005518\n",
       "93    0.004912\n",
       "94    0.002444\n",
       "95    0.006439\n",
       "96    0.005544\n",
       "Name: k__Bacteria;p__TM7;c__TM7-3;o__;f__;g__, Length: 96, dtype: float64"
      ]
     },
     "execution_count": 39,
     "metadata": {},
     "output_type": "execute_result"
    }
   ],
   "source": [
    "# Took the index below because it was so far from the graphs therefore it is an important index.\n",
    "# We can see this because the values are not 0 like in the other rows, these values are \n",
    "# relatively high.\n",
    "all_families.loc[\"k__Bacteria;p__TM7;c__TM7-3;o__;f__;g__\"]"
   ]
  },
  {
   "cell_type": "code",
   "execution_count": 40,
   "metadata": {},
   "outputs": [
    {
     "data": {
      "text/html": [
       "<div>\n",
       "<style scoped>\n",
       "    .dataframe tbody tr th:only-of-type {\n",
       "        vertical-align: middle;\n",
       "    }\n",
       "\n",
       "    .dataframe tbody tr th {\n",
       "        vertical-align: top;\n",
       "    }\n",
       "\n",
       "    .dataframe thead th {\n",
       "        text-align: right;\n",
       "    }\n",
       "</style>\n",
       "<table border=\"1\" class=\"dataframe\">\n",
       "  <thead>\n",
       "    <tr style=\"text-align: right;\">\n",
       "      <th></th>\n",
       "      <th>PC1</th>\n",
       "      <th>PC2</th>\n",
       "      <th>PC3</th>\n",
       "      <th>PC4</th>\n",
       "      <th>PC5</th>\n",
       "      <th>PC6</th>\n",
       "      <th>PC7</th>\n",
       "      <th>PC8</th>\n",
       "      <th>PC9</th>\n",
       "      <th>PC10</th>\n",
       "      <th>...</th>\n",
       "      <th>PC87</th>\n",
       "      <th>PC88</th>\n",
       "      <th>PC89</th>\n",
       "      <th>PC90</th>\n",
       "      <th>PC91</th>\n",
       "      <th>PC92</th>\n",
       "      <th>PC93</th>\n",
       "      <th>PC94</th>\n",
       "      <th>PC95</th>\n",
       "      <th>PC96</th>\n",
       "    </tr>\n",
       "  </thead>\n",
       "  <tbody>\n",
       "    <tr>\n",
       "      <th>Std Dev</th>\n",
       "      <td>0.538161</td>\n",
       "      <td>0.104265</td>\n",
       "      <td>0.072423</td>\n",
       "      <td>0.053799</td>\n",
       "      <td>0.044293</td>\n",
       "      <td>0.041097</td>\n",
       "      <td>0.035201</td>\n",
       "      <td>0.032360</td>\n",
       "      <td>0.025827</td>\n",
       "      <td>0.024109</td>\n",
       "      <td>...</td>\n",
       "      <td>7.004236e-06</td>\n",
       "      <td>6.039053e-06</td>\n",
       "      <td>5.102186e-06</td>\n",
       "      <td>4.848261e-06</td>\n",
       "      <td>3.735384e-06</td>\n",
       "      <td>2.669771e-06</td>\n",
       "      <td>1.895073e-06</td>\n",
       "      <td>1.421497e-06</td>\n",
       "      <td>7.300257e-07</td>\n",
       "      <td>3.449808e-07</td>\n",
       "    </tr>\n",
       "    <tr>\n",
       "      <th>Prop Var</th>\n",
       "      <td>0.915056</td>\n",
       "      <td>0.034348</td>\n",
       "      <td>0.016572</td>\n",
       "      <td>0.009145</td>\n",
       "      <td>0.006199</td>\n",
       "      <td>0.005336</td>\n",
       "      <td>0.003915</td>\n",
       "      <td>0.003309</td>\n",
       "      <td>0.002107</td>\n",
       "      <td>0.001837</td>\n",
       "      <td>...</td>\n",
       "      <td>1.550045e-10</td>\n",
       "      <td>1.152287e-10</td>\n",
       "      <td>8.224990e-11</td>\n",
       "      <td>7.426683e-11</td>\n",
       "      <td>4.408526e-11</td>\n",
       "      <td>2.252013e-11</td>\n",
       "      <td>1.134683e-11</td>\n",
       "      <td>6.384320e-12</td>\n",
       "      <td>1.683833e-12</td>\n",
       "      <td>3.760216e-13</td>\n",
       "    </tr>\n",
       "    <tr>\n",
       "      <th>Cum Var</th>\n",
       "      <td>0.915056</td>\n",
       "      <td>0.949404</td>\n",
       "      <td>0.965976</td>\n",
       "      <td>0.975121</td>\n",
       "      <td>0.981319</td>\n",
       "      <td>0.986656</td>\n",
       "      <td>0.990571</td>\n",
       "      <td>0.993879</td>\n",
       "      <td>0.995987</td>\n",
       "      <td>0.997823</td>\n",
       "      <td>...</td>\n",
       "      <td>1.000000e+00</td>\n",
       "      <td>1.000000e+00</td>\n",
       "      <td>1.000000e+00</td>\n",
       "      <td>1.000000e+00</td>\n",
       "      <td>1.000000e+00</td>\n",
       "      <td>1.000000e+00</td>\n",
       "      <td>1.000000e+00</td>\n",
       "      <td>1.000000e+00</td>\n",
       "      <td>1.000000e+00</td>\n",
       "      <td>1.000000e+00</td>\n",
       "    </tr>\n",
       "  </tbody>\n",
       "</table>\n",
       "<p>3 rows × 96 columns</p>\n",
       "</div>"
      ],
      "text/plain": [
       "               PC1       PC2       PC3       PC4       PC5       PC6  \\\n",
       "Std Dev   0.538161  0.104265  0.072423  0.053799  0.044293  0.041097   \n",
       "Prop Var  0.915056  0.034348  0.016572  0.009145  0.006199  0.005336   \n",
       "Cum Var   0.915056  0.949404  0.965976  0.975121  0.981319  0.986656   \n",
       "\n",
       "               PC7       PC8       PC9      PC10  ...          PC87  \\\n",
       "Std Dev   0.035201  0.032360  0.025827  0.024109  ...  7.004236e-06   \n",
       "Prop Var  0.003915  0.003309  0.002107  0.001837  ...  1.550045e-10   \n",
       "Cum Var   0.990571  0.993879  0.995987  0.997823  ...  1.000000e+00   \n",
       "\n",
       "                  PC88          PC89          PC90          PC91  \\\n",
       "Std Dev   6.039053e-06  5.102186e-06  4.848261e-06  3.735384e-06   \n",
       "Prop Var  1.152287e-10  8.224990e-11  7.426683e-11  4.408526e-11   \n",
       "Cum Var   1.000000e+00  1.000000e+00  1.000000e+00  1.000000e+00   \n",
       "\n",
       "                  PC92          PC93          PC94          PC95          PC96  \n",
       "Std Dev   2.669771e-06  1.895073e-06  1.421497e-06  7.300257e-07  3.449808e-07  \n",
       "Prop Var  2.252013e-11  1.134683e-11  6.384320e-12  1.683833e-12  3.760216e-13  \n",
       "Cum Var   1.000000e+00  1.000000e+00  1.000000e+00  1.000000e+00  1.000000e+00  \n",
       "\n",
       "[3 rows x 96 columns]"
      ]
     },
     "execution_count": 40,
     "metadata": {},
     "output_type": "execute_result"
    }
   ],
   "source": [
    "# This is why PC1 and PC2 were chos. Due to Highest Prop Var: \n",
    "# PC1 = 0.915056 and PC2 = 0.034348.\n",
    "all_families_PCA.summary_imp()"
   ]
  },
  {
   "cell_type": "code",
   "execution_count": 41,
   "metadata": {},
   "outputs": [
    {
     "data": {
      "image/png": "[encoded data removed]",
      "text/plain": [
       "<Figure size 432x288 with 1 Axes>"
      ]
     },
     "metadata": {
      "needs_background": "light"
     },
     "output_type": "display_data"
    }
   ],
   "source": [
    "# Family 1 PCA\n",
    "family1PCA = ep.pca(family1, scale=False)\n",
    "family1PCA.biplot(type='correlation', obsNames = True)"
   ]
  },
  {
   "cell_type": "code",
   "execution_count": 42,
   "metadata": {},
   "outputs": [
    {
     "data": {
      "text/plain": [
       "1     0.021140\n",
       "2     0.003666\n",
       "3     0.006685\n",
       "4     0.027012\n",
       "5     0.121438\n",
       "6     0.152086\n",
       "7     0.103211\n",
       "8     0.035065\n",
       "9     0.078766\n",
       "10    0.130871\n",
       "11    0.018275\n",
       "12    0.036308\n",
       "13    0.014641\n",
       "14    0.044534\n",
       "15    0.037060\n",
       "16    0.005420\n",
       "17    0.029531\n",
       "18    0.035120\n",
       "19    0.132821\n",
       "20    0.079788\n",
       "21    0.013019\n",
       "22    0.250837\n",
       "23    0.113833\n",
       "24    0.028497\n",
       "Name: k__Bacteria;p__TM7;c__TM7-3;o__;f__;g__, dtype: float64"
      ]
     },
     "execution_count": 42,
     "metadata": {},
     "output_type": "execute_result"
    }
   ],
   "source": [
    "# Family 1 important index as a result of PCA.\n",
    "family1.loc[\"k__Bacteria;p__TM7;c__TM7-3;o__;f__;g__\"]"
   ]
  },
  {
   "cell_type": "code",
   "execution_count": 43,
   "metadata": {},
   "outputs": [
    {
     "data": {
      "image/png": "[encoded data removed]",
      "text/plain": [
       "<Figure size 432x288 with 1 Axes>"
      ]
     },
     "metadata": {
      "needs_background": "light"
     },
     "output_type": "display_data"
    }
   ],
   "source": [
    "# Family 2 PCA\n",
    "family2PCA = ep.pca(family2, scale=False)\n",
    "family2PCA.biplot(type='correlation', obsNames = True)"
   ]
  },
  {
   "cell_type": "code",
   "execution_count": 44,
   "metadata": {},
   "outputs": [
    {
     "data": {
      "text/plain": [
       "25    0.029447\n",
       "26    0.171762\n",
       "27    0.319322\n",
       "28    0.070745\n",
       "29    0.031111\n",
       "30    0.018209\n",
       "31    0.131494\n",
       "32    0.006763\n",
       "33    0.000720\n",
       "34    0.139501\n",
       "35    0.217760\n",
       "36    0.181761\n",
       "37    0.107570\n",
       "38    0.102912\n",
       "39    0.284953\n",
       "40    0.041212\n",
       "41    0.040776\n",
       "42    0.038903\n",
       "43    0.149857\n",
       "44    0.078445\n",
       "45    0.041775\n",
       "46    0.156211\n",
       "47    0.120862\n",
       "48    0.122458\n",
       "Name: k__Bacteria;p__TM7;c__TM7-3;o__;f__;g__, dtype: float64"
      ]
     },
     "execution_count": 44,
     "metadata": {},
     "output_type": "execute_result"
    }
   ],
   "source": [
    "# Family 2 important index as a result of PCA.\n",
    "family2.loc[\"k__Bacteria;p__TM7;c__TM7-3;o__;f__;g__\"]"
   ]
  },
  {
   "cell_type": "code",
   "execution_count": 45,
   "metadata": {},
   "outputs": [
    {
     "data": {
      "image/png": "[encoded data removed]",
      "text/plain": [
       "<Figure size 432x288 with 1 Axes>"
      ]
     },
     "metadata": {
      "needs_background": "light"
     },
     "output_type": "display_data"
    }
   ],
   "source": [
    "# Family 3 PCA\n",
    "family3PCA = ep.pca(family3, scale=False)\n",
    "family3PCA.biplot(type='correlation', obsNames = True)"
   ]
  },
  {
   "cell_type": "code",
   "execution_count": 46,
   "metadata": {},
   "outputs": [
    {
     "data": {
      "text/plain": [
       "49    0.762599\n",
       "50    0.618000\n",
       "51    0.478278\n",
       "52    0.825850\n",
       "53    0.294539\n",
       "54    0.700516\n",
       "55    0.804969\n",
       "56    0.461427\n",
       "57    0.595999\n",
       "58    0.431430\n",
       "59    0.123413\n",
       "60    0.178490\n",
       "61    0.718577\n",
       "62    0.371717\n",
       "63    0.466372\n",
       "64    0.341014\n",
       "65    0.640321\n",
       "66    0.483997\n",
       "67    1.000000\n",
       "68    0.752087\n",
       "69    0.733849\n",
       "70    0.522906\n",
       "71    0.290229\n",
       "72    0.186661\n",
       "Name: k__Bacteria;p__Firmicutes;c__Bacilli;o__Lactobacillales;f__Streptococcaceae;g__Streptococcus, dtype: float64"
      ]
     },
     "execution_count": 46,
     "metadata": {},
     "output_type": "execute_result"
    }
   ],
   "source": [
    "# Family 3 important index as a result of PCA.\n",
    "family3.loc[\"k__Bacteria;p__Firmicutes;c__Bacilli;o__Lactobacillales;f__Streptococcaceae;g__Streptococcus\"]"
   ]
  },
  {
   "cell_type": "code",
   "execution_count": 47,
   "metadata": {},
   "outputs": [
    {
     "data": {
      "image/png": "[encoded data removed]",
      "text/plain": [
       "<Figure size 432x288 with 1 Axes>"
      ]
     },
     "metadata": {
      "needs_background": "light"
     },
     "output_type": "display_data"
    }
   ],
   "source": [
    "# Family 4 PCA\n",
    "family4PCA = ep.pca(family4, scale=False)\n",
    "family4PCA.biplot(type='correlation', obsNames = True)"
   ]
  },
  {
   "cell_type": "code",
   "execution_count": 48,
   "metadata": {},
   "outputs": [
    {
     "data": {
      "text/plain": [
       "73    0.700487\n",
       "74    0.539798\n",
       "75    0.534124\n",
       "76    0.383508\n",
       "77    0.239611\n",
       "78    0.136040\n",
       "79    0.186314\n",
       "80    0.297518\n",
       "81    0.329499\n",
       "82    0.279417\n",
       "83    0.416113\n",
       "84    0.290115\n",
       "85    0.639770\n",
       "86    0.581665\n",
       "87    0.651028\n",
       "88    0.405229\n",
       "89    0.372525\n",
       "90    0.349873\n",
       "91    0.341129\n",
       "92    0.404624\n",
       "93    0.532678\n",
       "94    0.597067\n",
       "95    0.575445\n",
       "96    0.635482\n",
       "Name: k__Bacteria;p__Firmicutes;c__Bacilli;o__Lactobacillales;f__Streptococcaceae;g__Streptococcus, dtype: float64"
      ]
     },
     "execution_count": 48,
     "metadata": {},
     "output_type": "execute_result"
    }
   ],
   "source": [
    "# Family 4 important index as a result of PCA.\n",
    "family4.loc[\"k__Bacteria;p__Firmicutes;c__Bacilli;o__Lactobacillales;f__Streptococcaceae;g__Streptococcus\"]"
   ]
  },
  {
   "cell_type": "code",
   "execution_count": 58,
   "metadata": {},
   "outputs": [
    {
     "data": {
      "application/vnd.plotly.v1+json": {
       "config": {
        "plotlyServerURL": "https://plot.ly"
       },
       "data": [
        {
         "mode": "lines+markers",
         "name": "Family 1",
         "type": "scatter",
         "x": [
          "1",
          "2",
          "3",
          "4",
          "5",
          "6",
          "7",
          "8",
          "9",
          "10",
          "11",
          "12",
          "13",
          "14",
          "15",
          "16",
          "17",
          "18",
          "19",
          "20",
          "21",
          "22",
          "23",
          "24"
         ],
         "y": [
          0.021140295,
          0.003665689,
          0.006685433,
          0.027011817999999996,
          0.121438263,
          0.15208564,
          0.103211009,
          0.035064935,
          0.078766487,
          0.130870953,
          0.018274854,
          0.036307962,
          0.014641288,
          0.044534412999999995,
          0.037059537999999996,
          0.0054200540000000005,
          0.029530841000000002,
          0.035119667,
          0.132820692,
          0.07978836,
          0.013018535,
          0.25083692,
          0.11383285300000001,
          0.028497408999999998
         ]
        },
        {
         "mode": "lines+markers",
         "name": "Family 2",
         "type": "scatter",
         "x": [
          "25",
          "26",
          "27",
          "28",
          "29",
          "30",
          "31",
          "32",
          "33",
          "34",
          "35",
          "36",
          "37",
          "38",
          "39",
          "40",
          "41",
          "42",
          "43",
          "44",
          "45",
          "46",
          "47",
          "48"
         ],
         "y": [
          0.029446876,
          0.17176174,
          0.319321876,
          0.070744805,
          0.031111111,
          0.018208844,
          0.131494253,
          0.006763285,
          0.000719942,
          0.139501438,
          0.21775964899999997,
          0.181761203,
          0.107569721,
          0.102911647,
          0.28495260699999997,
          0.041211519,
          0.040775643,
          0.038902883,
          0.149856659,
          0.078445065,
          0.041775457,
          0.156210947,
          0.12086220199999999,
          0.122458101
         ]
        },
        {
         "mode": "lines+markers",
         "name": "Family 3",
         "type": "scatter",
         "x": [
          "49",
          "50",
          "51",
          "52",
          "53",
          "54",
          "55",
          "56",
          "57",
          "58",
          "59",
          "60",
          "61",
          "62",
          "63",
          "64",
          "65",
          "66",
          "67",
          "68",
          "69",
          "70",
          "71",
          "72"
         ],
         "y": [
          0.7625985190000001,
          0.618,
          0.47827804100000004,
          0.82585034,
          0.294539321,
          0.7005160340000001,
          0.804969176,
          0.46142672700000004,
          0.5959990239999999,
          0.43143034399999997,
          0.12341289999999999,
          0.178489703,
          0.71857671,
          0.37171717200000004,
          0.46637188700000004,
          0.341013825,
          0.640321375,
          0.483997068,
          1,
          0.752086811,
          0.733849049,
          0.522906228,
          0.290229128,
          0.18666076399999998
         ]
        },
        {
         "mode": "lines+markers",
         "name": "Family 4",
         "type": "scatter",
         "x": [
          "73",
          "74",
          "75",
          "76",
          "77",
          "78",
          "79",
          "80",
          "81",
          "82",
          "83",
          "84",
          "85",
          "86",
          "87",
          "88",
          "89",
          "90",
          "91",
          "92",
          "93",
          "94",
          "95",
          "96"
         ],
         "y": [
          0.700486574,
          0.539798075,
          0.534124088,
          0.38350785299999995,
          0.23961096399999998,
          0.136039886,
          0.186314363,
          0.29751796199999997,
          0.329499072,
          0.279417122,
          0.41611319700000005,
          0.290114814,
          0.6397699,
          0.58166515,
          0.6510276110000001,
          0.40522875799999997,
          0.372525129,
          0.349872774,
          0.34112851299999997,
          0.40462427700000003,
          0.5326783429999999,
          0.597066612,
          0.575445375,
          0.635481635
         ]
        }
       ],
       "layout": {
        "template": {
         "data": {
          "bar": [
           {
            "error_x": {
             "color": "#2a3f5f"
            },
            "error_y": {
             "color": "#2a3f5f"
            },
            "marker": {
             "line": {
              "color": "#E5ECF6",
              "width": 0.5
             }
            },
            "type": "bar"
           }
          ],
          "barpolar": [
           {
            "marker": {
             "line": {
              "color": "#E5ECF6",
              "width": 0.5
             }
            },
            "type": "barpolar"
           }
          ],
          "carpet": [
           {
            "aaxis": {
             "endlinecolor": "#2a3f5f",
             "gridcolor": "white",
             "linecolor": "white",
             "minorgridcolor": "white",
             "startlinecolor": "#2a3f5f"
            },
            "baxis": {
             "endlinecolor": "#2a3f5f",
             "gridcolor": "white",
             "linecolor": "white",
             "minorgridcolor": "white",
             "startlinecolor": "#2a3f5f"
            },
            "type": "carpet"
           }
          ],
          "choropleth": [
           {
            "colorbar": {
             "outlinewidth": 0,
             "ticks": ""
            },
            "type": "choropleth"
           }
          ],
          "contour": [
           {
            "colorbar": {
             "outlinewidth": 0,
             "ticks": ""
            },
            "colorscale": [
             [
              0,
              "#0d0887"
             ],
             [
              0.1111111111111111,
              "#46039f"
             ],
             [
              0.2222222222222222,
              "#7201a8"
             ],
             [
              0.3333333333333333,
              "#9c179e"
             ],
             [
              0.4444444444444444,
              "#bd3786"
             ],
             [
              0.5555555555555556,
              "#d8576b"
             ],
             [
              0.6666666666666666,
              "#ed7953"
             ],
             [
              0.7777777777777778,
              "#fb9f3a"
             ],
             [
              0.8888888888888888,
              "#fdca26"
             ],
             [
              1,
              "#f0f921"
             ]
            ],
            "type": "contour"
           }
          ],
          "contourcarpet": [
           {
            "colorbar": {
             "outlinewidth": 0,
             "ticks": ""
            },
            "type": "contourcarpet"
           }
          ],
          "heatmap": [
           {
            "colorbar": {
             "outlinewidth": 0,
             "ticks": ""
            },
            "colorscale": [
             [
              0,
              "#0d0887"
             ],
             [
              0.1111111111111111,
              "#46039f"
             ],
             [
              0.2222222222222222,
              "#7201a8"
             ],
             [
              0.3333333333333333,
              "#9c179e"
             ],
             [
              0.4444444444444444,
              "#bd3786"
             ],
             [
              0.5555555555555556,
              "#d8576b"
             ],
             [
              0.6666666666666666,
              "#ed7953"
             ],
             [
              0.7777777777777778,
              "#fb9f3a"
             ],
             [
              0.8888888888888888,
              "#fdca26"
             ],
             [
              1,
              "#f0f921"
             ]
            ],
            "type": "heatmap"
           }
          ],
          "heatmapgl": [
           {
            "colorbar": {
             "outlinewidth": 0,
             "ticks": ""
            },
            "colorscale": [
             [
              0,
              "#0d0887"
             ],
             [
              0.1111111111111111,
              "#46039f"
             ],
             [
              0.2222222222222222,
              "#7201a8"
             ],
             [
              0.3333333333333333,
              "#9c179e"
             ],
             [
              0.4444444444444444,
              "#bd3786"
             ],
             [
              0.5555555555555556,
              "#d8576b"
             ],
             [
              0.6666666666666666,
              "#ed7953"
             ],
             [
              0.7777777777777778,
              "#fb9f3a"
             ],
             [
              0.8888888888888888,
              "#fdca26"
             ],
             [
              1,
              "#f0f921"
             ]
            ],
            "type": "heatmapgl"
           }
          ],
          "histogram": [
           {
            "marker": {
             "colorbar": {
              "outlinewidth": 0,
              "ticks": ""
             }
            },
            "type": "histogram"
           }
          ],
          "histogram2d": [
           {
            "colorbar": {
             "outlinewidth": 0,
             "ticks": ""
            },
            "colorscale": [
             [
              0,
              "#0d0887"
             ],
             [
              0.1111111111111111,
              "#46039f"
             ],
             [
              0.2222222222222222,
              "#7201a8"
             ],
             [
              0.3333333333333333,
              "#9c179e"
             ],
             [
              0.4444444444444444,
              "#bd3786"
             ],
             [
              0.5555555555555556,
              "#d8576b"
             ],
             [
              0.6666666666666666,
              "#ed7953"
             ],
             [
              0.7777777777777778,
              "#fb9f3a"
             ],
             [
              0.8888888888888888,
              "#fdca26"
             ],
             [
              1,
              "#f0f921"
             ]
            ],
            "type": "histogram2d"
           }
          ],
          "histogram2dcontour": [
           {
            "colorbar": {
             "outlinewidth": 0,
             "ticks": ""
            },
            "colorscale": [
             [
              0,
              "#0d0887"
             ],
             [
              0.1111111111111111,
              "#46039f"
             ],
             [
              0.2222222222222222,
              "#7201a8"
             ],
             [
              0.3333333333333333,
              "#9c179e"
             ],
             [
              0.4444444444444444,
              "#bd3786"
             ],
             [
              0.5555555555555556,
              "#d8576b"
             ],
             [
              0.6666666666666666,
              "#ed7953"
             ],
             [
              0.7777777777777778,
              "#fb9f3a"
             ],
             [
              0.8888888888888888,
              "#fdca26"
             ],
             [
              1,
              "#f0f921"
             ]
            ],
            "type": "histogram2dcontour"
           }
          ],
          "mesh3d": [
           {
            "colorbar": {
             "outlinewidth": 0,
             "ticks": ""
            },
            "type": "mesh3d"
           }
          ],
          "parcoords": [
           {
            "line": {
             "colorbar": {
              "outlinewidth": 0,
              "ticks": ""
             }
            },
            "type": "parcoords"
           }
          ],
          "pie": [
           {
            "automargin": true,
            "type": "pie"
           }
          ],
          "scatter": [
           {
            "marker": {
             "colorbar": {
              "outlinewidth": 0,
              "ticks": ""
             }
            },
            "type": "scatter"
           }
          ],
          "scatter3d": [
           {
            "line": {
             "colorbar": {
              "outlinewidth": 0,
              "ticks": ""
             }
            },
            "marker": {
             "colorbar": {
              "outlinewidth": 0,
              "ticks": ""
             }
            },
            "type": "scatter3d"
           }
          ],
          "scattercarpet": [
           {
            "marker": {
             "colorbar": {
              "outlinewidth": 0,
              "ticks": ""
             }
            },
            "type": "scattercarpet"
           }
          ],
          "scattergeo": [
           {
            "marker": {
             "colorbar": {
              "outlinewidth": 0,
              "ticks": ""
             }
            },
            "type": "scattergeo"
           }
          ],
          "scattergl": [
           {
            "marker": {
             "colorbar": {
              "outlinewidth": 0,
              "ticks": ""
             }
            },
            "type": "scattergl"
           }
          ],
          "scattermapbox": [
           {
            "marker": {
             "colorbar": {
              "outlinewidth": 0,
              "ticks": ""
             }
            },
            "type": "scattermapbox"
           }
          ],
          "scatterpolar": [
           {
            "marker": {
             "colorbar": {
              "outlinewidth": 0,
              "ticks": ""
             }
            },
            "type": "scatterpolar"
           }
          ],
          "scatterpolargl": [
           {
            "marker": {
             "colorbar": {
              "outlinewidth": 0,
              "ticks": ""
             }
            },
            "type": "scatterpolargl"
           }
          ],
          "scatterternary": [
           {
            "marker": {
             "colorbar": {
              "outlinewidth": 0,
              "ticks": ""
             }
            },
            "type": "scatterternary"
           }
          ],
          "surface": [
           {
            "colorbar": {
             "outlinewidth": 0,
             "ticks": ""
            },
            "colorscale": [
             [
              0,
              "#0d0887"
             ],
             [
              0.1111111111111111,
              "#46039f"
             ],
             [
              0.2222222222222222,
              "#7201a8"
             ],
             [
              0.3333333333333333,
              "#9c179e"
             ],
             [
              0.4444444444444444,
              "#bd3786"
             ],
             [
              0.5555555555555556,
              "#d8576b"
             ],
             [
              0.6666666666666666,
              "#ed7953"
             ],
             [
              0.7777777777777778,
              "#fb9f3a"
             ],
             [
              0.8888888888888888,
              "#fdca26"
             ],
             [
              1,
              "#f0f921"
             ]
            ],
            "type": "surface"
           }
          ],
          "table": [
           {
            "cells": {
             "fill": {
              "color": "#EBF0F8"
             },
             "line": {
              "color": "white"
             }
            },
            "header": {
             "fill": {
              "color": "#C8D4E3"
             },
             "line": {
              "color": "white"
             }
            },
            "type": "table"
           }
          ]
         },
         "layout": {
          "annotationdefaults": {
           "arrowcolor": "#2a3f5f",
           "arrowhead": 0,
           "arrowwidth": 1
          },
          "coloraxis": {
           "colorbar": {
            "outlinewidth": 0,
            "ticks": ""
           }
          },
          "colorscale": {
           "diverging": [
            [
             0,
             "#8e0152"
            ],
            [
             0.1,
             "#c51b7d"
            ],
            [
             0.2,
             "#de77ae"
            ],
            [
             0.3,
             "#f1b6da"
            ],
            [
             0.4,
             "#fde0ef"
            ],
            [
             0.5,
             "#f7f7f7"
            ],
            [
             0.6,
             "#e6f5d0"
            ],
            [
             0.7,
             "#b8e186"
            ],
            [
             0.8,
             "#7fbc41"
            ],
            [
             0.9,
             "#4d9221"
            ],
            [
             1,
             "#276419"
            ]
           ],
           "sequential": [
            [
             0,
             "#0d0887"
            ],
            [
             0.1111111111111111,
             "#46039f"
            ],
            [
             0.2222222222222222,
             "#7201a8"
            ],
            [
             0.3333333333333333,
             "#9c179e"
            ],
            [
             0.4444444444444444,
             "#bd3786"
            ],
            [
             0.5555555555555556,
             "#d8576b"
            ],
            [
             0.6666666666666666,
             "#ed7953"
            ],
            [
             0.7777777777777778,
             "#fb9f3a"
            ],
            [
             0.8888888888888888,
             "#fdca26"
            ],
            [
             1,
             "#f0f921"
            ]
           ],
           "sequentialminus": [
            [
             0,
             "#0d0887"
            ],
            [
             0.1111111111111111,
             "#46039f"
            ],
            [
             0.2222222222222222,
             "#7201a8"
            ],
            [
             0.3333333333333333,
             "#9c179e"
            ],
            [
             0.4444444444444444,
             "#bd3786"
            ],
            [
             0.5555555555555556,
             "#d8576b"
            ],
            [
             0.6666666666666666,
             "#ed7953"
            ],
            [
             0.7777777777777778,
             "#fb9f3a"
            ],
            [
             0.8888888888888888,
             "#fdca26"
            ],
            [
             1,
             "#f0f921"
            ]
           ]
          },
          "colorway": [
           "#636efa",
           "#EF553B",
           "#00cc96",
           "#ab63fa",
           "#FFA15A",
           "#19d3f3",
           "#FF6692",
           "#B6E880",
           "#FF97FF",
           "#FECB52"
          ],
          "font": {
           "color": "#2a3f5f"
          },
          "geo": {
           "bgcolor": "white",
           "lakecolor": "white",
           "landcolor": "#E5ECF6",
           "showlakes": true,
           "showland": true,
           "subunitcolor": "white"
          },
          "hoverlabel": {
           "align": "left"
          },
          "hovermode": "closest",
          "mapbox": {
           "style": "light"
          },
          "paper_bgcolor": "white",
          "plot_bgcolor": "#E5ECF6",
          "polar": {
           "angularaxis": {
            "gridcolor": "white",
            "linecolor": "white",
            "ticks": ""
           },
           "bgcolor": "#E5ECF6",
           "radialaxis": {
            "gridcolor": "white",
            "linecolor": "white",
            "ticks": ""
           }
          },
          "scene": {
           "xaxis": {
            "backgroundcolor": "#E5ECF6",
            "gridcolor": "white",
            "gridwidth": 2,
            "linecolor": "white",
            "showbackground": true,
            "ticks": "",
            "zerolinecolor": "white"
           },
           "yaxis": {
            "backgroundcolor": "#E5ECF6",
            "gridcolor": "white",
            "gridwidth": 2,
            "linecolor": "white",
            "showbackground": true,
            "ticks": "",
            "zerolinecolor": "white"
           },
           "zaxis": {
            "backgroundcolor": "#E5ECF6",
            "gridcolor": "white",
            "gridwidth": 2,
            "linecolor": "white",
            "showbackground": true,
            "ticks": "",
            "zerolinecolor": "white"
           }
          },
          "shapedefaults": {
           "line": {
            "color": "#2a3f5f"
           }
          },
          "ternary": {
           "aaxis": {
            "gridcolor": "white",
            "linecolor": "white",
            "ticks": ""
           },
           "baxis": {
            "gridcolor": "white",
            "linecolor": "white",
            "ticks": ""
           },
           "bgcolor": "#E5ECF6",
           "caxis": {
            "gridcolor": "white",
            "linecolor": "white",
            "ticks": ""
           }
          },
          "title": {
           "x": 0.05
          },
          "xaxis": {
           "automargin": true,
           "gridcolor": "white",
           "linecolor": "white",
           "ticks": "",
           "title": {
            "standoff": 15
           },
           "zerolinecolor": "white",
           "zerolinewidth": 2
          },
          "yaxis": {
           "automargin": true,
           "gridcolor": "white",
           "linecolor": "white",
           "ticks": "",
           "title": {
            "standoff": 15
           },
           "zerolinecolor": "white",
           "zerolinewidth": 2
          }
         }
        },
        "title": {
         "text": "Most Important Indexes per Family",
         "x": 0.5,
         "xanchor": "center",
         "y": 0.9,
         "yanchor": "top"
        },
        "xaxis": {
         "title": {
          "text": "Sample"
         }
        },
        "yaxis": {
         "title": {
          "text": "Value"
         }
        }
       }
      },
      "text/html": [
       "<div>                            <div id=\"47ad84e8-c460-444f-8b12-14ec3cffdf61\" class=\"plotly-graph-div\" style=\"height:525px; width:100%;\"></div>            <script type=\"text/javascript\">                require([\"plotly\"], function(Plotly) {                    window.PLOTLYENV=window.PLOTLYENV || {};                                    if (document.getElementById(\"47ad84e8-c460-444f-8b12-14ec3cffdf61\")) {                    Plotly.newPlot(                        \"47ad84e8-c460-444f-8b12-14ec3cffdf61\",                        [{\"mode\": \"lines+markers\", \"name\": \"Family 1\", \"type\": \"scatter\", \"x\": [\"1\", \"2\", \"3\", \"4\", \"5\", \"6\", \"7\", \"8\", \"9\", \"10\", \"11\", \"12\", \"13\", \"14\", \"15\", \"16\", \"17\", \"18\", \"19\", \"20\", \"21\", \"22\", \"23\", \"24\"], \"y\": [0.021140295, 0.003665689, 0.006685433, 0.027011817999999996, 0.121438263, 0.15208564, 0.103211009, 0.035064935, 0.078766487, 0.130870953, 0.018274854, 0.036307962, 0.014641288, 0.044534412999999995, 0.037059537999999996, 0.0054200540000000005, 0.029530841000000002, 0.035119667, 0.132820692, 0.07978836, 0.013018535, 0.25083692, 0.11383285300000001, 0.028497408999999998]}, {\"mode\": \"lines+markers\", \"name\": \"Family 2\", \"type\": \"scatter\", \"x\": [\"25\", \"26\", \"27\", \"28\", \"29\", \"30\", \"31\", \"32\", \"33\", \"34\", \"35\", \"36\", \"37\", \"38\", \"39\", \"40\", \"41\", \"42\", \"43\", \"44\", \"45\", \"46\", \"47\", \"48\"], \"y\": [0.029446876, 0.17176174, 0.319321876, 0.070744805, 0.031111111, 0.018208844, 0.131494253, 0.006763285, 0.000719942, 0.139501438, 0.21775964899999997, 0.181761203, 0.107569721, 0.102911647, 0.28495260699999997, 0.041211519, 0.040775643, 0.038902883, 0.149856659, 0.078445065, 0.041775457, 0.156210947, 0.12086220199999999, 0.122458101]}, {\"mode\": \"lines+markers\", \"name\": \"Family 3\", \"type\": \"scatter\", \"x\": [\"49\", \"50\", \"51\", \"52\", \"53\", \"54\", \"55\", \"56\", \"57\", \"58\", \"59\", \"60\", \"61\", \"62\", \"63\", \"64\", \"65\", \"66\", \"67\", \"68\", \"69\", \"70\", \"71\", \"72\"], \"y\": [0.7625985190000001, 0.618, 0.47827804100000004, 0.82585034, 0.294539321, 0.7005160340000001, 0.804969176, 0.46142672700000004, 0.5959990239999999, 0.43143034399999997, 0.12341289999999999, 0.178489703, 0.71857671, 0.37171717200000004, 0.46637188700000004, 0.341013825, 0.640321375, 0.483997068, 1.0, 0.752086811, 0.733849049, 0.522906228, 0.290229128, 0.18666076399999998]}, {\"mode\": \"lines+markers\", \"name\": \"Family 4\", \"type\": \"scatter\", \"x\": [\"73\", \"74\", \"75\", \"76\", \"77\", \"78\", \"79\", \"80\", \"81\", \"82\", \"83\", \"84\", \"85\", \"86\", \"87\", \"88\", \"89\", \"90\", \"91\", \"92\", \"93\", \"94\", \"95\", \"96\"], \"y\": [0.700486574, 0.539798075, 0.534124088, 0.38350785299999995, 0.23961096399999998, 0.136039886, 0.186314363, 0.29751796199999997, 0.329499072, 0.279417122, 0.41611319700000005, 0.290114814, 0.6397699, 0.58166515, 0.6510276110000001, 0.40522875799999997, 0.372525129, 0.349872774, 0.34112851299999997, 0.40462427700000003, 0.5326783429999999, 0.597066612, 0.575445375, 0.635481635]}],                        {\"template\": {\"data\": {\"bar\": [{\"error_x\": {\"color\": \"#2a3f5f\"}, \"error_y\": {\"color\": \"#2a3f5f\"}, \"marker\": {\"line\": {\"color\": \"#E5ECF6\", \"width\": 0.5}}, \"type\": \"bar\"}], \"barpolar\": [{\"marker\": {\"line\": {\"color\": \"#E5ECF6\", \"width\": 0.5}}, \"type\": \"barpolar\"}], \"carpet\": [{\"aaxis\": {\"endlinecolor\": \"#2a3f5f\", \"gridcolor\": \"white\", \"linecolor\": \"white\", \"minorgridcolor\": \"white\", \"startlinecolor\": \"#2a3f5f\"}, \"baxis\": {\"endlinecolor\": \"#2a3f5f\", \"gridcolor\": \"white\", \"linecolor\": \"white\", \"minorgridcolor\": \"white\", \"startlinecolor\": \"#2a3f5f\"}, \"type\": \"carpet\"}], \"choropleth\": [{\"colorbar\": {\"outlinewidth\": 0, \"ticks\": \"\"}, \"type\": \"choropleth\"}], \"contour\": [{\"colorbar\": {\"outlinewidth\": 0, \"ticks\": \"\"}, \"colorscale\": [[0.0, \"#0d0887\"], [0.1111111111111111, \"#46039f\"], [0.2222222222222222, \"#7201a8\"], [0.3333333333333333, \"#9c179e\"], [0.4444444444444444, \"#bd3786\"], [0.5555555555555556, \"#d8576b\"], [0.6666666666666666, \"#ed7953\"], [0.7777777777777778, \"#fb9f3a\"], [0.8888888888888888, \"#fdca26\"], [1.0, \"#f0f921\"]], \"type\": \"contour\"}], \"contourcarpet\": [{\"colorbar\": {\"outlinewidth\": 0, \"ticks\": \"\"}, \"type\": \"contourcarpet\"}], \"heatmap\": [{\"colorbar\": {\"outlinewidth\": 0, \"ticks\": \"\"}, \"colorscale\": [[0.0, \"#0d0887\"], [0.1111111111111111, \"#46039f\"], [0.2222222222222222, \"#7201a8\"], [0.3333333333333333, \"#9c179e\"], [0.4444444444444444, \"#bd3786\"], [0.5555555555555556, \"#d8576b\"], [0.6666666666666666, \"#ed7953\"], [0.7777777777777778, \"#fb9f3a\"], [0.8888888888888888, \"#fdca26\"], [1.0, \"#f0f921\"]], \"type\": \"heatmap\"}], \"heatmapgl\": [{\"colorbar\": {\"outlinewidth\": 0, \"ticks\": \"\"}, \"colorscale\": [[0.0, \"#0d0887\"], [0.1111111111111111, \"#46039f\"], [0.2222222222222222, \"#7201a8\"], [0.3333333333333333, \"#9c179e\"], [0.4444444444444444, \"#bd3786\"], [0.5555555555555556, \"#d8576b\"], [0.6666666666666666, \"#ed7953\"], [0.7777777777777778, \"#fb9f3a\"], [0.8888888888888888, \"#fdca26\"], [1.0, \"#f0f921\"]], \"type\": \"heatmapgl\"}], \"histogram\": [{\"marker\": {\"colorbar\": {\"outlinewidth\": 0, \"ticks\": \"\"}}, \"type\": \"histogram\"}], \"histogram2d\": [{\"colorbar\": {\"outlinewidth\": 0, \"ticks\": \"\"}, \"colorscale\": [[0.0, \"#0d0887\"], [0.1111111111111111, \"#46039f\"], [0.2222222222222222, \"#7201a8\"], [0.3333333333333333, \"#9c179e\"], [0.4444444444444444, \"#bd3786\"], [0.5555555555555556, \"#d8576b\"], [0.6666666666666666, \"#ed7953\"], [0.7777777777777778, \"#fb9f3a\"], [0.8888888888888888, \"#fdca26\"], [1.0, \"#f0f921\"]], \"type\": \"histogram2d\"}], \"histogram2dcontour\": [{\"colorbar\": {\"outlinewidth\": 0, \"ticks\": \"\"}, \"colorscale\": [[0.0, \"#0d0887\"], [0.1111111111111111, \"#46039f\"], [0.2222222222222222, \"#7201a8\"], [0.3333333333333333, \"#9c179e\"], [0.4444444444444444, \"#bd3786\"], [0.5555555555555556, \"#d8576b\"], [0.6666666666666666, \"#ed7953\"], [0.7777777777777778, \"#fb9f3a\"], [0.8888888888888888, \"#fdca26\"], [1.0, \"#f0f921\"]], \"type\": \"histogram2dcontour\"}], \"mesh3d\": [{\"colorbar\": {\"outlinewidth\": 0, \"ticks\": \"\"}, \"type\": \"mesh3d\"}], \"parcoords\": [{\"line\": {\"colorbar\": {\"outlinewidth\": 0, \"ticks\": \"\"}}, \"type\": \"parcoords\"}], \"pie\": [{\"automargin\": true, \"type\": \"pie\"}], \"scatter\": [{\"marker\": {\"colorbar\": {\"outlinewidth\": 0, \"ticks\": \"\"}}, \"type\": \"scatter\"}], \"scatter3d\": [{\"line\": {\"colorbar\": {\"outlinewidth\": 0, \"ticks\": \"\"}}, \"marker\": {\"colorbar\": {\"outlinewidth\": 0, \"ticks\": \"\"}}, \"type\": \"scatter3d\"}], \"scattercarpet\": [{\"marker\": {\"colorbar\": {\"outlinewidth\": 0, \"ticks\": \"\"}}, \"type\": \"scattercarpet\"}], \"scattergeo\": [{\"marker\": {\"colorbar\": {\"outlinewidth\": 0, \"ticks\": \"\"}}, \"type\": \"scattergeo\"}], \"scattergl\": [{\"marker\": {\"colorbar\": {\"outlinewidth\": 0, \"ticks\": \"\"}}, \"type\": \"scattergl\"}], \"scattermapbox\": [{\"marker\": {\"colorbar\": {\"outlinewidth\": 0, \"ticks\": \"\"}}, \"type\": \"scattermapbox\"}], \"scatterpolar\": [{\"marker\": {\"colorbar\": {\"outlinewidth\": 0, \"ticks\": \"\"}}, \"type\": \"scatterpolar\"}], \"scatterpolargl\": [{\"marker\": {\"colorbar\": {\"outlinewidth\": 0, \"ticks\": \"\"}}, \"type\": \"scatterpolargl\"}], \"scatterternary\": [{\"marker\": {\"colorbar\": {\"outlinewidth\": 0, \"ticks\": \"\"}}, \"type\": \"scatterternary\"}], \"surface\": [{\"colorbar\": {\"outlinewidth\": 0, \"ticks\": \"\"}, \"colorscale\": [[0.0, \"#0d0887\"], [0.1111111111111111, \"#46039f\"], [0.2222222222222222, \"#7201a8\"], [0.3333333333333333, \"#9c179e\"], [0.4444444444444444, \"#bd3786\"], [0.5555555555555556, \"#d8576b\"], [0.6666666666666666, \"#ed7953\"], [0.7777777777777778, \"#fb9f3a\"], [0.8888888888888888, \"#fdca26\"], [1.0, \"#f0f921\"]], \"type\": \"surface\"}], \"table\": [{\"cells\": {\"fill\": {\"color\": \"#EBF0F8\"}, \"line\": {\"color\": \"white\"}}, \"header\": {\"fill\": {\"color\": \"#C8D4E3\"}, \"line\": {\"color\": \"white\"}}, \"type\": \"table\"}]}, \"layout\": {\"annotationdefaults\": {\"arrowcolor\": \"#2a3f5f\", \"arrowhead\": 0, \"arrowwidth\": 1}, \"coloraxis\": {\"colorbar\": {\"outlinewidth\": 0, \"ticks\": \"\"}}, \"colorscale\": {\"diverging\": [[0, \"#8e0152\"], [0.1, \"#c51b7d\"], [0.2, \"#de77ae\"], [0.3, \"#f1b6da\"], [0.4, \"#fde0ef\"], [0.5, \"#f7f7f7\"], [0.6, \"#e6f5d0\"], [0.7, \"#b8e186\"], [0.8, \"#7fbc41\"], [0.9, \"#4d9221\"], [1, \"#276419\"]], \"sequential\": [[0.0, \"#0d0887\"], [0.1111111111111111, \"#46039f\"], [0.2222222222222222, \"#7201a8\"], [0.3333333333333333, \"#9c179e\"], [0.4444444444444444, \"#bd3786\"], [0.5555555555555556, \"#d8576b\"], [0.6666666666666666, \"#ed7953\"], [0.7777777777777778, \"#fb9f3a\"], [0.8888888888888888, \"#fdca26\"], [1.0, \"#f0f921\"]], \"sequentialminus\": [[0.0, \"#0d0887\"], [0.1111111111111111, \"#46039f\"], [0.2222222222222222, \"#7201a8\"], [0.3333333333333333, \"#9c179e\"], [0.4444444444444444, \"#bd3786\"], [0.5555555555555556, \"#d8576b\"], [0.6666666666666666, \"#ed7953\"], [0.7777777777777778, \"#fb9f3a\"], [0.8888888888888888, \"#fdca26\"], [1.0, \"#f0f921\"]]}, \"colorway\": [\"#636efa\", \"#EF553B\", \"#00cc96\", \"#ab63fa\", \"#FFA15A\", \"#19d3f3\", \"#FF6692\", \"#B6E880\", \"#FF97FF\", \"#FECB52\"], \"font\": {\"color\": \"#2a3f5f\"}, \"geo\": {\"bgcolor\": \"white\", \"lakecolor\": \"white\", \"landcolor\": \"#E5ECF6\", \"showlakes\": true, \"showland\": true, \"subunitcolor\": \"white\"}, \"hoverlabel\": {\"align\": \"left\"}, \"hovermode\": \"closest\", \"mapbox\": {\"style\": \"light\"}, \"paper_bgcolor\": \"white\", \"plot_bgcolor\": \"#E5ECF6\", \"polar\": {\"angularaxis\": {\"gridcolor\": \"white\", \"linecolor\": \"white\", \"ticks\": \"\"}, \"bgcolor\": \"#E5ECF6\", \"radialaxis\": {\"gridcolor\": \"white\", \"linecolor\": \"white\", \"ticks\": \"\"}}, \"scene\": {\"xaxis\": {\"backgroundcolor\": \"#E5ECF6\", \"gridcolor\": \"white\", \"gridwidth\": 2, \"linecolor\": \"white\", \"showbackground\": true, \"ticks\": \"\", \"zerolinecolor\": \"white\"}, \"yaxis\": {\"backgroundcolor\": \"#E5ECF6\", \"gridcolor\": \"white\", \"gridwidth\": 2, \"linecolor\": \"white\", \"showbackground\": true, \"ticks\": \"\", \"zerolinecolor\": \"white\"}, \"zaxis\": {\"backgroundcolor\": \"#E5ECF6\", \"gridcolor\": \"white\", \"gridwidth\": 2, \"linecolor\": \"white\", \"showbackground\": true, \"ticks\": \"\", \"zerolinecolor\": \"white\"}}, \"shapedefaults\": {\"line\": {\"color\": \"#2a3f5f\"}}, \"ternary\": {\"aaxis\": {\"gridcolor\": \"white\", \"linecolor\": \"white\", \"ticks\": \"\"}, \"baxis\": {\"gridcolor\": \"white\", \"linecolor\": \"white\", \"ticks\": \"\"}, \"bgcolor\": \"#E5ECF6\", \"caxis\": {\"gridcolor\": \"white\", \"linecolor\": \"white\", \"ticks\": \"\"}}, \"title\": {\"x\": 0.05}, \"xaxis\": {\"automargin\": true, \"gridcolor\": \"white\", \"linecolor\": \"white\", \"ticks\": \"\", \"title\": {\"standoff\": 15}, \"zerolinecolor\": \"white\", \"zerolinewidth\": 2}, \"yaxis\": {\"automargin\": true, \"gridcolor\": \"white\", \"linecolor\": \"white\", \"ticks\": \"\", \"title\": {\"standoff\": 15}, \"zerolinecolor\": \"white\", \"zerolinewidth\": 2}}}, \"title\": {\"text\": \"Most Important Indexes per Family\", \"x\": 0.5, \"xanchor\": \"center\", \"y\": 0.9, \"yanchor\": \"top\"}, \"xaxis\": {\"title\": {\"text\": \"Sample\"}}, \"yaxis\": {\"title\": {\"text\": \"Value\"}}},                        {\"responsive\": true}                    ).then(function(){\n",
       "                            \n",
       "var gd = document.getElementById('47ad84e8-c460-444f-8b12-14ec3cffdf61');\n",
       "var x = new MutationObserver(function (mutations, observer) {{\n",
       "        var display = window.getComputedStyle(gd).display;\n",
       "        if (!display || display === 'none') {{\n",
       "            console.log([gd, 'removed!']);\n",
       "            Plotly.purge(gd);\n",
       "            observer.disconnect();\n",
       "        }}\n",
       "}});\n",
       "\n",
       "// Listen for the removal of the full notebook cells\n",
       "var notebookContainer = gd.closest('#notebook-container');\n",
       "if (notebookContainer) {{\n",
       "    x.observe(notebookContainer, {childList: true});\n",
       "}}\n",
       "\n",
       "// Listen for the clearing of the current output cell\n",
       "var outputEl = gd.closest('.output');\n",
       "if (outputEl) {{\n",
       "    x.observe(outputEl, {childList: true});\n",
       "}}\n",
       "\n",
       "                        })                };                });            </script>        </div>"
      ]
     },
     "metadata": {},
     "output_type": "display_data"
    }
   ],
   "source": [
    "import plotly.graph_objects as go\n",
    "\n",
    "fig = go.Figure()\n",
    "\n",
    "# Family 1\n",
    "fig.add_trace(go.Scatter(x = family1.loc[\"k__Bacteria;p__TM7;c__TM7-3;o__;f__;g__\"].index, \n",
    "                         y = family1.loc[\"k__Bacteria;p__TM7;c__TM7-3;o__;f__;g__\"],\n",
    "                         mode = 'lines+markers',\n",
    "                         name = 'Family 1'))\n",
    "\n",
    "# Family 2\n",
    "fig.add_trace(go.Scatter(x = family2.loc[\"k__Bacteria;p__TM7;c__TM7-3;o__;f__;g__\"].index, \n",
    "                         y = family2.loc[\"k__Bacteria;p__TM7;c__TM7-3;o__;f__;g__\"],\n",
    "                         mode = 'lines+markers',\n",
    "                         name = 'Family 2'))\n",
    "\n",
    "# Family 3\n",
    "fig.add_trace(go.Scatter(x = family3.loc[\"k__Bacteria;p__Firmicutes;c__Bacilli;o__Lactobacillales;f__Streptococcaceae;g__Streptococcus\"].index, \n",
    "                         y = family3.loc[\"k__Bacteria;p__Firmicutes;c__Bacilli;o__Lactobacillales;f__Streptococcaceae;g__Streptococcus\"],\n",
    "                         mode='lines+markers',\n",
    "                         name='Family 3'))\n",
    "\n",
    "# Family 4\n",
    "fig.add_trace(go.Scatter(x=family4.loc[\"k__Bacteria;p__Firmicutes;c__Bacilli;o__Lactobacillales;f__Streptococcaceae;g__Streptococcus\"].index, \n",
    "                         y=family4.loc[\"k__Bacteria;p__Firmicutes;c__Bacilli;o__Lactobacillales;f__Streptococcaceae;g__Streptococcus\"],\n",
    "                         mode='lines+markers',\n",
    "                         name='Family 4'))\n",
    "\n",
    "fig.update_layout(\n",
    "    title={\n",
    "        'text': \"Most Important Indexes per Family\",\n",
    "        'y':0.9,\n",
    "        'x':0.5,\n",
    "        'xanchor': 'center',\n",
    "        'yanchor': 'top'},\n",
    "\n",
    "\n",
    "    xaxis_title=\"Sample\",\n",
    "    yaxis_title=\"Value\")\n",
    "\n",
    "\n",
    "fig.show()\n",
    "\n",
    "fig.write_image(\"PCA Plots/Important Indexes.png\")"
   ]
  },
  {
   "cell_type": "markdown",
   "metadata": {},
   "source": [
    "<center><h1> Shannon H </h1></center>"
   ]
  },
  {
   "cell_type": "code",
   "execution_count": 50,
   "metadata": {},
   "outputs": [],
   "source": [
    "shannonH = ep.diversity(all_families.T, 'shannon')\n",
    "shannonH\n",
    "\n",
    "D_alpha, D_beta, D_gamma = ep.div_partition(all_families.T, 'shannon')"
   ]
  },
  {
   "cell_type": "code",
   "execution_count": 51,
   "metadata": {},
   "outputs": [
    {
     "data": {
      "text/plain": [
       "5.945649222183524"
      ]
     },
     "execution_count": 51,
     "metadata": {},
     "output_type": "execute_result"
    }
   ],
   "source": [
    "D_alpha\n",
    "# 5.9456922..microbial species richness between the whole sample. "
   ]
  },
  {
   "cell_type": "code",
   "execution_count": 52,
   "metadata": {},
   "outputs": [
    {
     "data": {
      "text/plain": [
       "1.3877187447376873"
      ]
     },
     "execution_count": 52,
     "metadata": {},
     "output_type": "execute_result"
    }
   ],
   "source": [
    "D_beta\n",
    "# 1.387718.... microbial species differ from the 96 samples collected. "
   ]
  },
  {
   "cell_type": "code",
   "execution_count": 53,
   "metadata": {},
   "outputs": [
    {
     "data": {
      "text/plain": [
       "8.250888875259127"
      ]
     },
     "execution_count": 53,
     "metadata": {},
     "output_type": "execute_result"
    }
   ],
   "source": [
    "D_gamma"
   ]
  }
 ],
 "metadata": {
  "kernelspec": {
   "display_name": "Python 3",
   "language": "python",
   "name": "python3"
  },
  "language_info": {
   "codemirror_mode": {
    "name": "ipython",
    "version": 3
   },
   "file_extension": ".py",
   "mimetype": "text/x-python",
   "name": "python",
   "nbconvert_exporter": "python",
   "pygments_lexer": "ipython3",
   "version": "3.6.12"
  }
 },
 "nbformat": 4,
 "nbformat_minor": 4
}
